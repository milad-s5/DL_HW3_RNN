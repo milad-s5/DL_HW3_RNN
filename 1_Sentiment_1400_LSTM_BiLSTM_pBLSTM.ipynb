{
  "nbformat": 4,
  "nbformat_minor": 0,
  "metadata": {
    "colab": {
      "name": "1 Sentiment 1400-LSTM-BiLSTM-pBLSTM.ipynb",
      "provenance": [],
      "collapsed_sections": [
        "TyYCCLXY6VsV",
        "Q2hD3B02_V7_"
      ],
      "toc_visible": true,
      "include_colab_link": true
    },
    "kernelspec": {
      "name": "python3",
      "display_name": "Python 3"
    },
    "language_info": {
      "name": "python"
    }
  },
  "cells": [
    {
      "cell_type": "markdown",
      "metadata": {
        "id": "view-in-github",
        "colab_type": "text"
      },
      "source": [
        "<a href=\"https://colab.research.google.com/github/milad-s5/DL_HW3_RNN/blob/LSTM/1_Sentiment_1400_LSTM_BiLSTM_pBLSTM.ipynb\" target=\"_parent\"><img src=\"https://colab.research.google.com/assets/colab-badge.svg\" alt=\"Open In Colab\"/></a>"
      ]
    },
    {
      "cell_type": "markdown",
      "source": [
        "# Download dataset"
      ],
      "metadata": {
        "id": "TyYCCLXY6VsV"
      }
    },
    {
      "cell_type": "code",
      "source": [
        "from google.colab import drive\n",
        "drive.mount('/content/drive')"
      ],
      "metadata": {
        "colab": {
          "base_uri": "https://localhost:8080/"
        },
        "id": "5rn2dI2woJmr",
        "outputId": "257e2816-1968-4aa2-cacf-83982f759cbd"
      },
      "execution_count": null,
      "outputs": [
        {
          "output_type": "stream",
          "name": "stdout",
          "text": [
            "Mounted at /content/drive\n"
          ]
        }
      ]
    },
    {
      "cell_type": "code",
      "source": [
        "cd 'drive/MyDrive/Colab Notebooks/DL/HW3/'"
      ],
      "metadata": {
        "colab": {
          "base_uri": "https://localhost:8080/"
        },
        "id": "8hdP-2ngtqkV",
        "outputId": "08a46bee-edc9-4412-c1e8-63ef4c3f4323"
      },
      "execution_count": null,
      "outputs": [
        {
          "output_type": "stream",
          "name": "stdout",
          "text": [
            "/content/drive/MyDrive/Colab Notebooks/DL/HW3\n"
          ]
        }
      ]
    },
    {
      "cell_type": "code",
      "source": [
        "# Make data directory if it doesn't exist\n",
        "!mkdir -p data\n",
        "!wget -nc http://cs.stanford.edu/people/alecmgo/trainingandtestdata.zip -P data\n",
        "!unzip -n -d data \"data/trainingandtestdata.zip\""
      ],
      "metadata": {
        "colab": {
          "base_uri": "https://localhost:8080/"
        },
        "id": "vraL1V5V0J0Q",
        "outputId": "dde83a03-6614-40e7-9d6f-ef83a667f4fa"
      },
      "execution_count": null,
      "outputs": [
        {
          "output_type": "stream",
          "name": "stdout",
          "text": [
            "File ‘data/trainingandtestdata.zip’ already there; not retrieving.\n",
            "\n",
            "Archive:  data/trainingandtestdata.zip\n"
          ]
        }
      ]
    },
    {
      "cell_type": "code",
      "execution_count": null,
      "metadata": {
        "id": "6BSvJgHd-VjL",
        "colab": {
          "base_uri": "https://localhost:8080/"
        },
        "outputId": "10abc711-131f-4230-b8ba-57f399184087"
      },
      "outputs": [
        {
          "output_type": "stream",
          "name": "stdout",
          "text": [
            "File ‘glove.42B.300d.zip’ already there; not retrieving.\n",
            "\n",
            "Archive:  glove.42B.300d.zip\n"
          ]
        }
      ],
      "source": [
        "# Download and unzip glove.42B.300d file if it doesn't exist\n",
        "!wget -nc http://nlp.stanford.edu/data/glove.42B.300d.zip\n",
        "!unzip -n \"glove.42B.300d.zip\""
      ]
    },
    {
      "cell_type": "code",
      "source": [
        "! ls -all -h"
      ],
      "metadata": {
        "colab": {
          "base_uri": "https://localhost:8080/"
        },
        "id": "pxCjUob06Glg",
        "outputId": "d5846ff4-e044-45de-e99a-a6f6dfabd1f9"
      },
      "execution_count": null,
      "outputs": [
        {
          "output_type": "stream",
          "name": "stdout",
          "text": [
            "total 6.5G\n",
            "-rw------- 1 root root 311K Jan  9 06:48 1.ipynb\n",
            "-rw------- 1 root root 128K Jan  8 15:48 Cashe.ipynb\n",
            "drwx------ 2 root root 4.0K Jan  1 08:52 data\n",
            "-rw------- 1 root root 4.7G Oct 24  2015 glove.42B.300d.txt\n",
            "-rw------- 1 root root 1.8G Oct 25  2015 glove.42B.300d.zip\n",
            "drwx------ 2 root root 4.0K Jan  3 12:04 models\n",
            "-rw------- 1 root root  83K Jan  9 06:20 Untitled0.ipynb\n"
          ]
        }
      ]
    },
    {
      "cell_type": "code",
      "source": [
        "! ls ./data -all -h"
      ],
      "metadata": {
        "colab": {
          "base_uri": "https://localhost:8080/"
        },
        "id": "fxTcOC4E0lqc",
        "outputId": "ed9b85ee-a6b1-4600-ca26-8efdcd7e97ef"
      },
      "execution_count": null,
      "outputs": [
        {
          "output_type": "stream",
          "name": "stdout",
          "text": [
            "total 306M\n",
            "-rw------- 1 root root  73K Mar  4  2010 testdata.manual.2009.06.14.csv\n",
            "-rw------- 1 root root 228M Mar  4  2010 training.1600000.processed.noemoticon.csv\n",
            "-rw------- 1 root root  78M Apr 22  2012 trainingandtestdata.zip\n"
          ]
        }
      ]
    },
    {
      "cell_type": "markdown",
      "source": [
        "# Preprocessing"
      ],
      "metadata": {
        "id": "Q2hD3B02_V7_"
      }
    },
    {
      "cell_type": "code",
      "source": [
        "import numpy as np\n",
        "import tensorflow as tf\n",
        "import pandas as pd\n",
        "import matplotlib.pyplot as plt\n",
        "import seaborn as sn\n",
        "from sklearn.model_selection import train_test_split\n",
        "from tensorflow.keras.preprocessing.text import Tokenizer #\n",
        "from sklearn.preprocessing import LabelEncoder\n",
        "from tensorflow.keras.preprocessing.sequence import pad_sequences #\n",
        "from tensorflow.keras.models import Sequential\n",
        "from tensorflow.keras.layers import Conv1D, Bidirectional, LSTM, Dense, Input, Dropout, Embedding, concatenate \n",
        "from tensorflow.keras.layers import SpatialDropout1D\n",
        "from tensorflow.keras.callbacks import ModelCheckpoint\n",
        "from tensorflow.keras.optimizers import Adam\n",
        "from tensorflow.keras.models import load_model\n",
        "\n",
        "# nltk\n",
        "import re\n",
        "import nltk\n",
        "from nltk.corpus import stopwords\n",
        "from  nltk.stem import SnowballStemmer\n",
        "nltk.download('stopwords')"
      ],
      "metadata": {
        "id": "4oHDQKiKc4Ru",
        "colab": {
          "base_uri": "https://localhost:8080/"
        },
        "outputId": "e731e207-d966-43ad-c423-2fb92c9b440c"
      },
      "execution_count": null,
      "outputs": [
        {
          "output_type": "stream",
          "name": "stdout",
          "text": [
            "[nltk_data] Downloading package stopwords to /root/nltk_data...\n",
            "[nltk_data]   Unzipping corpora/stopwords.zip.\n"
          ]
        },
        {
          "output_type": "execute_result",
          "data": {
            "text/plain": [
              "True"
            ]
          },
          "metadata": {},
          "execution_count": 7
        }
      ]
    },
    {
      "cell_type": "code",
      "source": [
        "traindf = pd.read_csv(\"data/training.1600000.processed.noemoticon.csv\",\n",
        "                names=['polarity', 'id', 'date', 'query', 'user', 'text'],\n",
        "                encoding='latin-1')\n",
        "traindf.head()"
      ],
      "metadata": {
        "colab": {
          "base_uri": "https://localhost:8080/",
          "height": 206
        },
        "id": "IDlK9fTr6JWz",
        "outputId": "77ca1ac6-40f3-404a-9235-59d9941fb860"
      },
      "execution_count": null,
      "outputs": [
        {
          "output_type": "execute_result",
          "data": {
            "text/html": [
              "\n",
              "  <div id=\"df-bb0c1cb9-d23d-4862-8c45-db895f771c00\">\n",
              "    <div class=\"colab-df-container\">\n",
              "      <div>\n",
              "<style scoped>\n",
              "    .dataframe tbody tr th:only-of-type {\n",
              "        vertical-align: middle;\n",
              "    }\n",
              "\n",
              "    .dataframe tbody tr th {\n",
              "        vertical-align: top;\n",
              "    }\n",
              "\n",
              "    .dataframe thead th {\n",
              "        text-align: right;\n",
              "    }\n",
              "</style>\n",
              "<table border=\"1\" class=\"dataframe\">\n",
              "  <thead>\n",
              "    <tr style=\"text-align: right;\">\n",
              "      <th></th>\n",
              "      <th>polarity</th>\n",
              "      <th>id</th>\n",
              "      <th>date</th>\n",
              "      <th>query</th>\n",
              "      <th>user</th>\n",
              "      <th>text</th>\n",
              "    </tr>\n",
              "  </thead>\n",
              "  <tbody>\n",
              "    <tr>\n",
              "      <th>0</th>\n",
              "      <td>0</td>\n",
              "      <td>1467810369</td>\n",
              "      <td>Mon Apr 06 22:19:45 PDT 2009</td>\n",
              "      <td>NO_QUERY</td>\n",
              "      <td>_TheSpecialOne_</td>\n",
              "      <td>@switchfoot http://twitpic.com/2y1zl - Awww, t...</td>\n",
              "    </tr>\n",
              "    <tr>\n",
              "      <th>1</th>\n",
              "      <td>0</td>\n",
              "      <td>1467810672</td>\n",
              "      <td>Mon Apr 06 22:19:49 PDT 2009</td>\n",
              "      <td>NO_QUERY</td>\n",
              "      <td>scotthamilton</td>\n",
              "      <td>is upset that he can't update his Facebook by ...</td>\n",
              "    </tr>\n",
              "    <tr>\n",
              "      <th>2</th>\n",
              "      <td>0</td>\n",
              "      <td>1467810917</td>\n",
              "      <td>Mon Apr 06 22:19:53 PDT 2009</td>\n",
              "      <td>NO_QUERY</td>\n",
              "      <td>mattycus</td>\n",
              "      <td>@Kenichan I dived many times for the ball. Man...</td>\n",
              "    </tr>\n",
              "    <tr>\n",
              "      <th>3</th>\n",
              "      <td>0</td>\n",
              "      <td>1467811184</td>\n",
              "      <td>Mon Apr 06 22:19:57 PDT 2009</td>\n",
              "      <td>NO_QUERY</td>\n",
              "      <td>ElleCTF</td>\n",
              "      <td>my whole body feels itchy and like its on fire</td>\n",
              "    </tr>\n",
              "    <tr>\n",
              "      <th>4</th>\n",
              "      <td>0</td>\n",
              "      <td>1467811193</td>\n",
              "      <td>Mon Apr 06 22:19:57 PDT 2009</td>\n",
              "      <td>NO_QUERY</td>\n",
              "      <td>Karoli</td>\n",
              "      <td>@nationwideclass no, it's not behaving at all....</td>\n",
              "    </tr>\n",
              "  </tbody>\n",
              "</table>\n",
              "</div>\n",
              "      <button class=\"colab-df-convert\" onclick=\"convertToInteractive('df-bb0c1cb9-d23d-4862-8c45-db895f771c00')\"\n",
              "              title=\"Convert this dataframe to an interactive table.\"\n",
              "              style=\"display:none;\">\n",
              "        \n",
              "  <svg xmlns=\"http://www.w3.org/2000/svg\" height=\"24px\"viewBox=\"0 0 24 24\"\n",
              "       width=\"24px\">\n",
              "    <path d=\"M0 0h24v24H0V0z\" fill=\"none\"/>\n",
              "    <path d=\"M18.56 5.44l.94 2.06.94-2.06 2.06-.94-2.06-.94-.94-2.06-.94 2.06-2.06.94zm-11 1L8.5 8.5l.94-2.06 2.06-.94-2.06-.94L8.5 2.5l-.94 2.06-2.06.94zm10 10l.94 2.06.94-2.06 2.06-.94-2.06-.94-.94-2.06-.94 2.06-2.06.94z\"/><path d=\"M17.41 7.96l-1.37-1.37c-.4-.4-.92-.59-1.43-.59-.52 0-1.04.2-1.43.59L10.3 9.45l-7.72 7.72c-.78.78-.78 2.05 0 2.83L4 21.41c.39.39.9.59 1.41.59.51 0 1.02-.2 1.41-.59l7.78-7.78 2.81-2.81c.8-.78.8-2.07 0-2.86zM5.41 20L4 18.59l7.72-7.72 1.47 1.35L5.41 20z\"/>\n",
              "  </svg>\n",
              "      </button>\n",
              "      \n",
              "  <style>\n",
              "    .colab-df-container {\n",
              "      display:flex;\n",
              "      flex-wrap:wrap;\n",
              "      gap: 12px;\n",
              "    }\n",
              "\n",
              "    .colab-df-convert {\n",
              "      background-color: #E8F0FE;\n",
              "      border: none;\n",
              "      border-radius: 50%;\n",
              "      cursor: pointer;\n",
              "      display: none;\n",
              "      fill: #1967D2;\n",
              "      height: 32px;\n",
              "      padding: 0 0 0 0;\n",
              "      width: 32px;\n",
              "    }\n",
              "\n",
              "    .colab-df-convert:hover {\n",
              "      background-color: #E2EBFA;\n",
              "      box-shadow: 0px 1px 2px rgba(60, 64, 67, 0.3), 0px 1px 3px 1px rgba(60, 64, 67, 0.15);\n",
              "      fill: #174EA6;\n",
              "    }\n",
              "\n",
              "    [theme=dark] .colab-df-convert {\n",
              "      background-color: #3B4455;\n",
              "      fill: #D2E3FC;\n",
              "    }\n",
              "\n",
              "    [theme=dark] .colab-df-convert:hover {\n",
              "      background-color: #434B5C;\n",
              "      box-shadow: 0px 1px 3px 1px rgba(0, 0, 0, 0.15);\n",
              "      filter: drop-shadow(0px 1px 2px rgba(0, 0, 0, 0.3));\n",
              "      fill: #FFFFFF;\n",
              "    }\n",
              "  </style>\n",
              "\n",
              "      <script>\n",
              "        const buttonEl =\n",
              "          document.querySelector('#df-bb0c1cb9-d23d-4862-8c45-db895f771c00 button.colab-df-convert');\n",
              "        buttonEl.style.display =\n",
              "          google.colab.kernel.accessAllowed ? 'block' : 'none';\n",
              "\n",
              "        async function convertToInteractive(key) {\n",
              "          const element = document.querySelector('#df-bb0c1cb9-d23d-4862-8c45-db895f771c00');\n",
              "          const dataTable =\n",
              "            await google.colab.kernel.invokeFunction('convertToInteractive',\n",
              "                                                     [key], {});\n",
              "          if (!dataTable) return;\n",
              "\n",
              "          const docLinkHtml = 'Like what you see? Visit the ' +\n",
              "            '<a target=\"_blank\" href=https://colab.research.google.com/notebooks/data_table.ipynb>data table notebook</a>'\n",
              "            + ' to learn more about interactive tables.';\n",
              "          element.innerHTML = '';\n",
              "          dataTable['output_type'] = 'display_data';\n",
              "          await google.colab.output.renderOutput(dataTable, element);\n",
              "          const docLink = document.createElement('div');\n",
              "          docLink.innerHTML = docLinkHtml;\n",
              "          element.appendChild(docLink);\n",
              "        }\n",
              "      </script>\n",
              "    </div>\n",
              "  </div>\n",
              "  "
            ],
            "text/plain": [
              "   polarity  ...                                               text\n",
              "0         0  ...  @switchfoot http://twitpic.com/2y1zl - Awww, t...\n",
              "1         0  ...  is upset that he can't update his Facebook by ...\n",
              "2         0  ...  @Kenichan I dived many times for the ball. Man...\n",
              "3         0  ...    my whole body feels itchy and like its on fire \n",
              "4         0  ...  @nationwideclass no, it's not behaving at all....\n",
              "\n",
              "[5 rows x 6 columns]"
            ]
          },
          "metadata": {},
          "execution_count": 8
        }
      ]
    },
    {
      "cell_type": "code",
      "source": [
        "testdf = pd.read_csv(\"data/testdata.manual.2009.06.14.csv\",\n",
        "                names=['polarity', 'id', 'date', 'query', 'user', 'text'],\n",
        "                encoding='latin-1')\n",
        "\n",
        "testdf.head()"
      ],
      "metadata": {
        "colab": {
          "base_uri": "https://localhost:8080/",
          "height": 206
        },
        "id": "kyW1YIDRPSug",
        "outputId": "4eafc596-64f2-4231-bd41-b48858d98028"
      },
      "execution_count": null,
      "outputs": [
        {
          "output_type": "execute_result",
          "data": {
            "text/html": [
              "\n",
              "  <div id=\"df-e2ca51ff-f421-4104-b11b-98378153f689\">\n",
              "    <div class=\"colab-df-container\">\n",
              "      <div>\n",
              "<style scoped>\n",
              "    .dataframe tbody tr th:only-of-type {\n",
              "        vertical-align: middle;\n",
              "    }\n",
              "\n",
              "    .dataframe tbody tr th {\n",
              "        vertical-align: top;\n",
              "    }\n",
              "\n",
              "    .dataframe thead th {\n",
              "        text-align: right;\n",
              "    }\n",
              "</style>\n",
              "<table border=\"1\" class=\"dataframe\">\n",
              "  <thead>\n",
              "    <tr style=\"text-align: right;\">\n",
              "      <th></th>\n",
              "      <th>polarity</th>\n",
              "      <th>id</th>\n",
              "      <th>date</th>\n",
              "      <th>query</th>\n",
              "      <th>user</th>\n",
              "      <th>text</th>\n",
              "    </tr>\n",
              "  </thead>\n",
              "  <tbody>\n",
              "    <tr>\n",
              "      <th>0</th>\n",
              "      <td>4</td>\n",
              "      <td>3</td>\n",
              "      <td>Mon May 11 03:17:40 UTC 2009</td>\n",
              "      <td>kindle2</td>\n",
              "      <td>tpryan</td>\n",
              "      <td>@stellargirl I loooooooovvvvvveee my Kindle2. ...</td>\n",
              "    </tr>\n",
              "    <tr>\n",
              "      <th>1</th>\n",
              "      <td>4</td>\n",
              "      <td>4</td>\n",
              "      <td>Mon May 11 03:18:03 UTC 2009</td>\n",
              "      <td>kindle2</td>\n",
              "      <td>vcu451</td>\n",
              "      <td>Reading my kindle2...  Love it... Lee childs i...</td>\n",
              "    </tr>\n",
              "    <tr>\n",
              "      <th>2</th>\n",
              "      <td>4</td>\n",
              "      <td>5</td>\n",
              "      <td>Mon May 11 03:18:54 UTC 2009</td>\n",
              "      <td>kindle2</td>\n",
              "      <td>chadfu</td>\n",
              "      <td>Ok, first assesment of the #kindle2 ...it fuck...</td>\n",
              "    </tr>\n",
              "    <tr>\n",
              "      <th>3</th>\n",
              "      <td>4</td>\n",
              "      <td>6</td>\n",
              "      <td>Mon May 11 03:19:04 UTC 2009</td>\n",
              "      <td>kindle2</td>\n",
              "      <td>SIX15</td>\n",
              "      <td>@kenburbary You'll love your Kindle2. I've had...</td>\n",
              "    </tr>\n",
              "    <tr>\n",
              "      <th>4</th>\n",
              "      <td>4</td>\n",
              "      <td>7</td>\n",
              "      <td>Mon May 11 03:21:41 UTC 2009</td>\n",
              "      <td>kindle2</td>\n",
              "      <td>yamarama</td>\n",
              "      <td>@mikefish  Fair enough. But i have the Kindle2...</td>\n",
              "    </tr>\n",
              "  </tbody>\n",
              "</table>\n",
              "</div>\n",
              "      <button class=\"colab-df-convert\" onclick=\"convertToInteractive('df-e2ca51ff-f421-4104-b11b-98378153f689')\"\n",
              "              title=\"Convert this dataframe to an interactive table.\"\n",
              "              style=\"display:none;\">\n",
              "        \n",
              "  <svg xmlns=\"http://www.w3.org/2000/svg\" height=\"24px\"viewBox=\"0 0 24 24\"\n",
              "       width=\"24px\">\n",
              "    <path d=\"M0 0h24v24H0V0z\" fill=\"none\"/>\n",
              "    <path d=\"M18.56 5.44l.94 2.06.94-2.06 2.06-.94-2.06-.94-.94-2.06-.94 2.06-2.06.94zm-11 1L8.5 8.5l.94-2.06 2.06-.94-2.06-.94L8.5 2.5l-.94 2.06-2.06.94zm10 10l.94 2.06.94-2.06 2.06-.94-2.06-.94-.94-2.06-.94 2.06-2.06.94z\"/><path d=\"M17.41 7.96l-1.37-1.37c-.4-.4-.92-.59-1.43-.59-.52 0-1.04.2-1.43.59L10.3 9.45l-7.72 7.72c-.78.78-.78 2.05 0 2.83L4 21.41c.39.39.9.59 1.41.59.51 0 1.02-.2 1.41-.59l7.78-7.78 2.81-2.81c.8-.78.8-2.07 0-2.86zM5.41 20L4 18.59l7.72-7.72 1.47 1.35L5.41 20z\"/>\n",
              "  </svg>\n",
              "      </button>\n",
              "      \n",
              "  <style>\n",
              "    .colab-df-container {\n",
              "      display:flex;\n",
              "      flex-wrap:wrap;\n",
              "      gap: 12px;\n",
              "    }\n",
              "\n",
              "    .colab-df-convert {\n",
              "      background-color: #E8F0FE;\n",
              "      border: none;\n",
              "      border-radius: 50%;\n",
              "      cursor: pointer;\n",
              "      display: none;\n",
              "      fill: #1967D2;\n",
              "      height: 32px;\n",
              "      padding: 0 0 0 0;\n",
              "      width: 32px;\n",
              "    }\n",
              "\n",
              "    .colab-df-convert:hover {\n",
              "      background-color: #E2EBFA;\n",
              "      box-shadow: 0px 1px 2px rgba(60, 64, 67, 0.3), 0px 1px 3px 1px rgba(60, 64, 67, 0.15);\n",
              "      fill: #174EA6;\n",
              "    }\n",
              "\n",
              "    [theme=dark] .colab-df-convert {\n",
              "      background-color: #3B4455;\n",
              "      fill: #D2E3FC;\n",
              "    }\n",
              "\n",
              "    [theme=dark] .colab-df-convert:hover {\n",
              "      background-color: #434B5C;\n",
              "      box-shadow: 0px 1px 3px 1px rgba(0, 0, 0, 0.15);\n",
              "      filter: drop-shadow(0px 1px 2px rgba(0, 0, 0, 0.3));\n",
              "      fill: #FFFFFF;\n",
              "    }\n",
              "  </style>\n",
              "\n",
              "      <script>\n",
              "        const buttonEl =\n",
              "          document.querySelector('#df-e2ca51ff-f421-4104-b11b-98378153f689 button.colab-df-convert');\n",
              "        buttonEl.style.display =\n",
              "          google.colab.kernel.accessAllowed ? 'block' : 'none';\n",
              "\n",
              "        async function convertToInteractive(key) {\n",
              "          const element = document.querySelector('#df-e2ca51ff-f421-4104-b11b-98378153f689');\n",
              "          const dataTable =\n",
              "            await google.colab.kernel.invokeFunction('convertToInteractive',\n",
              "                                                     [key], {});\n",
              "          if (!dataTable) return;\n",
              "\n",
              "          const docLinkHtml = 'Like what you see? Visit the ' +\n",
              "            '<a target=\"_blank\" href=https://colab.research.google.com/notebooks/data_table.ipynb>data table notebook</a>'\n",
              "            + ' to learn more about interactive tables.';\n",
              "          element.innerHTML = '';\n",
              "          dataTable['output_type'] = 'display_data';\n",
              "          await google.colab.output.renderOutput(dataTable, element);\n",
              "          const docLink = document.createElement('div');\n",
              "          docLink.innerHTML = docLinkHtml;\n",
              "          element.appendChild(docLink);\n",
              "        }\n",
              "      </script>\n",
              "    </div>\n",
              "  </div>\n",
              "  "
            ],
            "text/plain": [
              "   polarity  id  ...      user                                               text\n",
              "0         4   3  ...    tpryan  @stellargirl I loooooooovvvvvveee my Kindle2. ...\n",
              "1         4   4  ...    vcu451  Reading my kindle2...  Love it... Lee childs i...\n",
              "2         4   5  ...    chadfu  Ok, first assesment of the #kindle2 ...it fuck...\n",
              "3         4   6  ...     SIX15  @kenburbary You'll love your Kindle2. I've had...\n",
              "4         4   7  ...  yamarama  @mikefish  Fair enough. But i have the Kindle2...\n",
              "\n",
              "[5 rows x 6 columns]"
            ]
          },
          "metadata": {},
          "execution_count": 9
        }
      ]
    },
    {
      "cell_type": "markdown",
      "source": [
        "## Update polarity\n",
        "`polarity` column:\n",
        "`0` : negative, `4` : positive\n",
        "\n",
        "Change that to `0` and `1`"
      ],
      "metadata": {
        "id": "RGxH198tA2-Z"
      }
    },
    {
      "cell_type": "code",
      "source": [
        "traindf.polarity.value_counts()"
      ],
      "metadata": {
        "colab": {
          "base_uri": "https://localhost:8080/"
        },
        "id": "Lp1RkOFl_lCF",
        "outputId": "7653eff7-621c-4f73-dee6-9f56d486a432"
      },
      "execution_count": null,
      "outputs": [
        {
          "output_type": "execute_result",
          "data": {
            "text/plain": [
              "4    800000\n",
              "0    800000\n",
              "Name: polarity, dtype: int64"
            ]
          },
          "metadata": {},
          "execution_count": 10
        }
      ]
    },
    {
      "cell_type": "code",
      "source": [
        "testdf.polarity.value_counts()"
      ],
      "metadata": {
        "colab": {
          "base_uri": "https://localhost:8080/"
        },
        "id": "T6BwtpcVWewm",
        "outputId": "0791404b-9f74-414a-ca1c-836480aebca5"
      },
      "execution_count": null,
      "outputs": [
        {
          "output_type": "execute_result",
          "data": {
            "text/plain": [
              "4    182\n",
              "0    177\n",
              "2    139\n",
              "Name: polarity, dtype: int64"
            ]
          },
          "metadata": {},
          "execution_count": 11
        }
      ]
    },
    {
      "cell_type": "code",
      "source": [
        "traindf.polarity = traindf.polarity.replace({0: 0, 4: 1})\n",
        "traindf.polarity.value_counts()"
      ],
      "metadata": {
        "colab": {
          "base_uri": "https://localhost:8080/"
        },
        "id": "pFmmKUVJB2vu",
        "outputId": "6ac2a7b6-584e-40c3-e1d0-1c42d48d72ee"
      },
      "execution_count": null,
      "outputs": [
        {
          "output_type": "execute_result",
          "data": {
            "text/plain": [
              "1    800000\n",
              "0    800000\n",
              "Name: polarity, dtype: int64"
            ]
          },
          "metadata": {},
          "execution_count": 12
        }
      ]
    },
    {
      "cell_type": "code",
      "source": [
        "testdf = testdf[testdf.polarity != 2]\n",
        "testdf.polarity = testdf.polarity.replace({0: 0, 4: 1})\n",
        "testdf.polarity.value_counts()"
      ],
      "metadata": {
        "colab": {
          "base_uri": "https://localhost:8080/"
        },
        "id": "8QeUw7J2Wz-q",
        "outputId": "901df2ba-2f31-4963-b36a-f21763d8ebf6"
      },
      "execution_count": null,
      "outputs": [
        {
          "output_type": "stream",
          "name": "stderr",
          "text": [
            "/usr/local/lib/python3.7/dist-packages/pandas/core/generic.py:5170: SettingWithCopyWarning: \n",
            "A value is trying to be set on a copy of a slice from a DataFrame.\n",
            "Try using .loc[row_indexer,col_indexer] = value instead\n",
            "\n",
            "See the caveats in the documentation: https://pandas.pydata.org/pandas-docs/stable/user_guide/indexing.html#returning-a-view-versus-a-copy\n",
            "  self[name] = value\n"
          ]
        },
        {
          "output_type": "execute_result",
          "data": {
            "text/plain": [
              "1    182\n",
              "0    177\n",
              "Name: polarity, dtype: int64"
            ]
          },
          "metadata": {},
          "execution_count": 13
        }
      ]
    },
    {
      "cell_type": "markdown",
      "metadata": {
        "id": "Pgflmks7x1Gj"
      },
      "source": [
        "## Remove unneeded columns\n",
        "\n",
        "We don't need all those columns! Let's get rid of the ones that won't affect the sentiment."
      ]
    },
    {
      "cell_type": "code",
      "execution_count": null,
      "metadata": {
        "id": "q2hkt05qx1Gk"
      },
      "outputs": [],
      "source": [
        "traindf = traindf.drop(columns=['id', 'date', 'query', 'user'])\n",
        "testdf = testdf.drop(columns=['id', 'date', 'query', 'user'])"
      ]
    },
    {
      "cell_type": "code",
      "source": [
        "traindf"
      ],
      "metadata": {
        "colab": {
          "base_uri": "https://localhost:8080/",
          "height": 423
        },
        "id": "AE0tBS7lOyhF",
        "outputId": "43c00d16-eaf2-432a-e97b-a8bc7737df8c"
      },
      "execution_count": null,
      "outputs": [
        {
          "output_type": "execute_result",
          "data": {
            "text/html": [
              "\n",
              "  <div id=\"df-4927c7c1-25a4-4216-967f-668f34c61b18\">\n",
              "    <div class=\"colab-df-container\">\n",
              "      <div>\n",
              "<style scoped>\n",
              "    .dataframe tbody tr th:only-of-type {\n",
              "        vertical-align: middle;\n",
              "    }\n",
              "\n",
              "    .dataframe tbody tr th {\n",
              "        vertical-align: top;\n",
              "    }\n",
              "\n",
              "    .dataframe thead th {\n",
              "        text-align: right;\n",
              "    }\n",
              "</style>\n",
              "<table border=\"1\" class=\"dataframe\">\n",
              "  <thead>\n",
              "    <tr style=\"text-align: right;\">\n",
              "      <th></th>\n",
              "      <th>polarity</th>\n",
              "      <th>text</th>\n",
              "    </tr>\n",
              "  </thead>\n",
              "  <tbody>\n",
              "    <tr>\n",
              "      <th>0</th>\n",
              "      <td>0</td>\n",
              "      <td>@switchfoot http://twitpic.com/2y1zl - Awww, t...</td>\n",
              "    </tr>\n",
              "    <tr>\n",
              "      <th>1</th>\n",
              "      <td>0</td>\n",
              "      <td>is upset that he can't update his Facebook by ...</td>\n",
              "    </tr>\n",
              "    <tr>\n",
              "      <th>2</th>\n",
              "      <td>0</td>\n",
              "      <td>@Kenichan I dived many times for the ball. Man...</td>\n",
              "    </tr>\n",
              "    <tr>\n",
              "      <th>3</th>\n",
              "      <td>0</td>\n",
              "      <td>my whole body feels itchy and like its on fire</td>\n",
              "    </tr>\n",
              "    <tr>\n",
              "      <th>4</th>\n",
              "      <td>0</td>\n",
              "      <td>@nationwideclass no, it's not behaving at all....</td>\n",
              "    </tr>\n",
              "    <tr>\n",
              "      <th>...</th>\n",
              "      <td>...</td>\n",
              "      <td>...</td>\n",
              "    </tr>\n",
              "    <tr>\n",
              "      <th>1599995</th>\n",
              "      <td>1</td>\n",
              "      <td>Just woke up. Having no school is the best fee...</td>\n",
              "    </tr>\n",
              "    <tr>\n",
              "      <th>1599996</th>\n",
              "      <td>1</td>\n",
              "      <td>TheWDB.com - Very cool to hear old Walt interv...</td>\n",
              "    </tr>\n",
              "    <tr>\n",
              "      <th>1599997</th>\n",
              "      <td>1</td>\n",
              "      <td>Are you ready for your MoJo Makeover? Ask me f...</td>\n",
              "    </tr>\n",
              "    <tr>\n",
              "      <th>1599998</th>\n",
              "      <td>1</td>\n",
              "      <td>Happy 38th Birthday to my boo of alll time!!! ...</td>\n",
              "    </tr>\n",
              "    <tr>\n",
              "      <th>1599999</th>\n",
              "      <td>1</td>\n",
              "      <td>happy #charitytuesday @theNSPCC @SparksCharity...</td>\n",
              "    </tr>\n",
              "  </tbody>\n",
              "</table>\n",
              "<p>1600000 rows × 2 columns</p>\n",
              "</div>\n",
              "      <button class=\"colab-df-convert\" onclick=\"convertToInteractive('df-4927c7c1-25a4-4216-967f-668f34c61b18')\"\n",
              "              title=\"Convert this dataframe to an interactive table.\"\n",
              "              style=\"display:none;\">\n",
              "        \n",
              "  <svg xmlns=\"http://www.w3.org/2000/svg\" height=\"24px\"viewBox=\"0 0 24 24\"\n",
              "       width=\"24px\">\n",
              "    <path d=\"M0 0h24v24H0V0z\" fill=\"none\"/>\n",
              "    <path d=\"M18.56 5.44l.94 2.06.94-2.06 2.06-.94-2.06-.94-.94-2.06-.94 2.06-2.06.94zm-11 1L8.5 8.5l.94-2.06 2.06-.94-2.06-.94L8.5 2.5l-.94 2.06-2.06.94zm10 10l.94 2.06.94-2.06 2.06-.94-2.06-.94-.94-2.06-.94 2.06-2.06.94z\"/><path d=\"M17.41 7.96l-1.37-1.37c-.4-.4-.92-.59-1.43-.59-.52 0-1.04.2-1.43.59L10.3 9.45l-7.72 7.72c-.78.78-.78 2.05 0 2.83L4 21.41c.39.39.9.59 1.41.59.51 0 1.02-.2 1.41-.59l7.78-7.78 2.81-2.81c.8-.78.8-2.07 0-2.86zM5.41 20L4 18.59l7.72-7.72 1.47 1.35L5.41 20z\"/>\n",
              "  </svg>\n",
              "      </button>\n",
              "      \n",
              "  <style>\n",
              "    .colab-df-container {\n",
              "      display:flex;\n",
              "      flex-wrap:wrap;\n",
              "      gap: 12px;\n",
              "    }\n",
              "\n",
              "    .colab-df-convert {\n",
              "      background-color: #E8F0FE;\n",
              "      border: none;\n",
              "      border-radius: 50%;\n",
              "      cursor: pointer;\n",
              "      display: none;\n",
              "      fill: #1967D2;\n",
              "      height: 32px;\n",
              "      padding: 0 0 0 0;\n",
              "      width: 32px;\n",
              "    }\n",
              "\n",
              "    .colab-df-convert:hover {\n",
              "      background-color: #E2EBFA;\n",
              "      box-shadow: 0px 1px 2px rgba(60, 64, 67, 0.3), 0px 1px 3px 1px rgba(60, 64, 67, 0.15);\n",
              "      fill: #174EA6;\n",
              "    }\n",
              "\n",
              "    [theme=dark] .colab-df-convert {\n",
              "      background-color: #3B4455;\n",
              "      fill: #D2E3FC;\n",
              "    }\n",
              "\n",
              "    [theme=dark] .colab-df-convert:hover {\n",
              "      background-color: #434B5C;\n",
              "      box-shadow: 0px 1px 3px 1px rgba(0, 0, 0, 0.15);\n",
              "      filter: drop-shadow(0px 1px 2px rgba(0, 0, 0, 0.3));\n",
              "      fill: #FFFFFF;\n",
              "    }\n",
              "  </style>\n",
              "\n",
              "      <script>\n",
              "        const buttonEl =\n",
              "          document.querySelector('#df-4927c7c1-25a4-4216-967f-668f34c61b18 button.colab-df-convert');\n",
              "        buttonEl.style.display =\n",
              "          google.colab.kernel.accessAllowed ? 'block' : 'none';\n",
              "\n",
              "        async function convertToInteractive(key) {\n",
              "          const element = document.querySelector('#df-4927c7c1-25a4-4216-967f-668f34c61b18');\n",
              "          const dataTable =\n",
              "            await google.colab.kernel.invokeFunction('convertToInteractive',\n",
              "                                                     [key], {});\n",
              "          if (!dataTable) return;\n",
              "\n",
              "          const docLinkHtml = 'Like what you see? Visit the ' +\n",
              "            '<a target=\"_blank\" href=https://colab.research.google.com/notebooks/data_table.ipynb>data table notebook</a>'\n",
              "            + ' to learn more about interactive tables.';\n",
              "          element.innerHTML = '';\n",
              "          dataTable['output_type'] = 'display_data';\n",
              "          await google.colab.output.renderOutput(dataTable, element);\n",
              "          const docLink = document.createElement('div');\n",
              "          docLink.innerHTML = docLinkHtml;\n",
              "          element.appendChild(docLink);\n",
              "        }\n",
              "      </script>\n",
              "    </div>\n",
              "  </div>\n",
              "  "
            ],
            "text/plain": [
              "         polarity                                               text\n",
              "0               0  @switchfoot http://twitpic.com/2y1zl - Awww, t...\n",
              "1               0  is upset that he can't update his Facebook by ...\n",
              "2               0  @Kenichan I dived many times for the ball. Man...\n",
              "3               0    my whole body feels itchy and like its on fire \n",
              "4               0  @nationwideclass no, it's not behaving at all....\n",
              "...           ...                                                ...\n",
              "1599995         1  Just woke up. Having no school is the best fee...\n",
              "1599996         1  TheWDB.com - Very cool to hear old Walt interv...\n",
              "1599997         1  Are you ready for your MoJo Makeover? Ask me f...\n",
              "1599998         1  Happy 38th Birthday to my boo of alll time!!! ...\n",
              "1599999         1  happy #charitytuesday @theNSPCC @SparksCharity...\n",
              "\n",
              "[1600000 rows x 2 columns]"
            ]
          },
          "metadata": {},
          "execution_count": 15
        }
      ]
    },
    {
      "cell_type": "markdown",
      "metadata": {
        "id": "O8vnCXLUx1Gk"
      },
      "source": [
        "## Remove link,user and special characters\n"
      ]
    },
    {
      "cell_type": "code",
      "source": [
        "stop_words = stopwords.words(\"english\")\n",
        "stemmer = SnowballStemmer(\"english\") # Snowball Stemmer – NLP"
      ],
      "metadata": {
        "id": "Nv9-bBwsG68K"
      },
      "execution_count": null,
      "outputs": []
    },
    {
      "cell_type": "code",
      "source": [
        "def preprocess(text, stem=False):\n",
        "    # Remove link,user and special characters\n",
        "    text = re.sub(\"@\\S+|#\\S+|https?:\\S+|http?:\\S\", ' ', str(text).lower()).strip() # Remove user ids, hashtags and links\n",
        "    text = re.sub(\"[^A-Za-z0-9]+\", ' ', str(text).lower()).strip()            # Remove special characters \n",
        "    tokens = []\n",
        "    for token in text.split():\n",
        "        if token not in stop_words:\n",
        "            if stem:\n",
        "                tokens.append(stemmer.stem(token))\n",
        "            else:\n",
        "                tokens.append(token)\n",
        "    return \" \".join(tokens)"
      ],
      "metadata": {
        "id": "gM8yQw0mXzkA"
      },
      "execution_count": null,
      "outputs": []
    },
    {
      "cell_type": "code",
      "source": [
        "traindf.text = traindf.text.apply(lambda x: preprocess(x))\n",
        "testdf.text = testdf.text.apply(lambda x: preprocess(x))"
      ],
      "metadata": {
        "id": "jy4uETj8Yl-0"
      },
      "execution_count": null,
      "outputs": []
    },
    {
      "cell_type": "code",
      "source": [
        "traindf"
      ],
      "metadata": {
        "colab": {
          "base_uri": "https://localhost:8080/",
          "height": 423
        },
        "id": "G40Z6n6yoLea",
        "outputId": "d1215f59-d978-4f9e-e6b2-f18d6b58d8e6"
      },
      "execution_count": null,
      "outputs": [
        {
          "output_type": "execute_result",
          "data": {
            "text/html": [
              "\n",
              "  <div id=\"df-92bf5f2a-c367-4b4d-978e-da621e29f7f5\">\n",
              "    <div class=\"colab-df-container\">\n",
              "      <div>\n",
              "<style scoped>\n",
              "    .dataframe tbody tr th:only-of-type {\n",
              "        vertical-align: middle;\n",
              "    }\n",
              "\n",
              "    .dataframe tbody tr th {\n",
              "        vertical-align: top;\n",
              "    }\n",
              "\n",
              "    .dataframe thead th {\n",
              "        text-align: right;\n",
              "    }\n",
              "</style>\n",
              "<table border=\"1\" class=\"dataframe\">\n",
              "  <thead>\n",
              "    <tr style=\"text-align: right;\">\n",
              "      <th></th>\n",
              "      <th>polarity</th>\n",
              "      <th>text</th>\n",
              "    </tr>\n",
              "  </thead>\n",
              "  <tbody>\n",
              "    <tr>\n",
              "      <th>0</th>\n",
              "      <td>0</td>\n",
              "      <td>awww bummer shoulda got david carr third day</td>\n",
              "    </tr>\n",
              "    <tr>\n",
              "      <th>1</th>\n",
              "      <td>0</td>\n",
              "      <td>upset update facebook texting might cry result...</td>\n",
              "    </tr>\n",
              "    <tr>\n",
              "      <th>2</th>\n",
              "      <td>0</td>\n",
              "      <td>dived many times ball managed save 50 rest go ...</td>\n",
              "    </tr>\n",
              "    <tr>\n",
              "      <th>3</th>\n",
              "      <td>0</td>\n",
              "      <td>whole body feels itchy like fire</td>\n",
              "    </tr>\n",
              "    <tr>\n",
              "      <th>4</th>\n",
              "      <td>0</td>\n",
              "      <td>behaving mad see</td>\n",
              "    </tr>\n",
              "    <tr>\n",
              "      <th>...</th>\n",
              "      <td>...</td>\n",
              "      <td>...</td>\n",
              "    </tr>\n",
              "    <tr>\n",
              "      <th>1599995</th>\n",
              "      <td>1</td>\n",
              "      <td>woke school best feeling ever</td>\n",
              "    </tr>\n",
              "    <tr>\n",
              "      <th>1599996</th>\n",
              "      <td>1</td>\n",
              "      <td>thewdb com cool hear old walt interviews</td>\n",
              "    </tr>\n",
              "    <tr>\n",
              "      <th>1599997</th>\n",
              "      <td>1</td>\n",
              "      <td>ready mojo makeover ask details</td>\n",
              "    </tr>\n",
              "    <tr>\n",
              "      <th>1599998</th>\n",
              "      <td>1</td>\n",
              "      <td>happy 38th birthday boo alll time tupac amaru ...</td>\n",
              "    </tr>\n",
              "    <tr>\n",
              "      <th>1599999</th>\n",
              "      <td>1</td>\n",
              "      <td>happy</td>\n",
              "    </tr>\n",
              "  </tbody>\n",
              "</table>\n",
              "<p>1600000 rows × 2 columns</p>\n",
              "</div>\n",
              "      <button class=\"colab-df-convert\" onclick=\"convertToInteractive('df-92bf5f2a-c367-4b4d-978e-da621e29f7f5')\"\n",
              "              title=\"Convert this dataframe to an interactive table.\"\n",
              "              style=\"display:none;\">\n",
              "        \n",
              "  <svg xmlns=\"http://www.w3.org/2000/svg\" height=\"24px\"viewBox=\"0 0 24 24\"\n",
              "       width=\"24px\">\n",
              "    <path d=\"M0 0h24v24H0V0z\" fill=\"none\"/>\n",
              "    <path d=\"M18.56 5.44l.94 2.06.94-2.06 2.06-.94-2.06-.94-.94-2.06-.94 2.06-2.06.94zm-11 1L8.5 8.5l.94-2.06 2.06-.94-2.06-.94L8.5 2.5l-.94 2.06-2.06.94zm10 10l.94 2.06.94-2.06 2.06-.94-2.06-.94-.94-2.06-.94 2.06-2.06.94z\"/><path d=\"M17.41 7.96l-1.37-1.37c-.4-.4-.92-.59-1.43-.59-.52 0-1.04.2-1.43.59L10.3 9.45l-7.72 7.72c-.78.78-.78 2.05 0 2.83L4 21.41c.39.39.9.59 1.41.59.51 0 1.02-.2 1.41-.59l7.78-7.78 2.81-2.81c.8-.78.8-2.07 0-2.86zM5.41 20L4 18.59l7.72-7.72 1.47 1.35L5.41 20z\"/>\n",
              "  </svg>\n",
              "      </button>\n",
              "      \n",
              "  <style>\n",
              "    .colab-df-container {\n",
              "      display:flex;\n",
              "      flex-wrap:wrap;\n",
              "      gap: 12px;\n",
              "    }\n",
              "\n",
              "    .colab-df-convert {\n",
              "      background-color: #E8F0FE;\n",
              "      border: none;\n",
              "      border-radius: 50%;\n",
              "      cursor: pointer;\n",
              "      display: none;\n",
              "      fill: #1967D2;\n",
              "      height: 32px;\n",
              "      padding: 0 0 0 0;\n",
              "      width: 32px;\n",
              "    }\n",
              "\n",
              "    .colab-df-convert:hover {\n",
              "      background-color: #E2EBFA;\n",
              "      box-shadow: 0px 1px 2px rgba(60, 64, 67, 0.3), 0px 1px 3px 1px rgba(60, 64, 67, 0.15);\n",
              "      fill: #174EA6;\n",
              "    }\n",
              "\n",
              "    [theme=dark] .colab-df-convert {\n",
              "      background-color: #3B4455;\n",
              "      fill: #D2E3FC;\n",
              "    }\n",
              "\n",
              "    [theme=dark] .colab-df-convert:hover {\n",
              "      background-color: #434B5C;\n",
              "      box-shadow: 0px 1px 3px 1px rgba(0, 0, 0, 0.15);\n",
              "      filter: drop-shadow(0px 1px 2px rgba(0, 0, 0, 0.3));\n",
              "      fill: #FFFFFF;\n",
              "    }\n",
              "  </style>\n",
              "\n",
              "      <script>\n",
              "        const buttonEl =\n",
              "          document.querySelector('#df-92bf5f2a-c367-4b4d-978e-da621e29f7f5 button.colab-df-convert');\n",
              "        buttonEl.style.display =\n",
              "          google.colab.kernel.accessAllowed ? 'block' : 'none';\n",
              "\n",
              "        async function convertToInteractive(key) {\n",
              "          const element = document.querySelector('#df-92bf5f2a-c367-4b4d-978e-da621e29f7f5');\n",
              "          const dataTable =\n",
              "            await google.colab.kernel.invokeFunction('convertToInteractive',\n",
              "                                                     [key], {});\n",
              "          if (!dataTable) return;\n",
              "\n",
              "          const docLinkHtml = 'Like what you see? Visit the ' +\n",
              "            '<a target=\"_blank\" href=https://colab.research.google.com/notebooks/data_table.ipynb>data table notebook</a>'\n",
              "            + ' to learn more about interactive tables.';\n",
              "          element.innerHTML = '';\n",
              "          dataTable['output_type'] = 'display_data';\n",
              "          await google.colab.output.renderOutput(dataTable, element);\n",
              "          const docLink = document.createElement('div');\n",
              "          docLink.innerHTML = docLinkHtml;\n",
              "          element.appendChild(docLink);\n",
              "        }\n",
              "      </script>\n",
              "    </div>\n",
              "  </div>\n",
              "  "
            ],
            "text/plain": [
              "         polarity                                               text\n",
              "0               0       awww bummer shoulda got david carr third day\n",
              "1               0  upset update facebook texting might cry result...\n",
              "2               0  dived many times ball managed save 50 rest go ...\n",
              "3               0                   whole body feels itchy like fire\n",
              "4               0                                   behaving mad see\n",
              "...           ...                                                ...\n",
              "1599995         1                      woke school best feeling ever\n",
              "1599996         1           thewdb com cool hear old walt interviews\n",
              "1599997         1                    ready mojo makeover ask details\n",
              "1599998         1  happy 38th birthday boo alll time tupac amaru ...\n",
              "1599999         1                                              happy\n",
              "\n",
              "[1600000 rows x 2 columns]"
            ]
          },
          "metadata": {},
          "execution_count": 19
        }
      ]
    },
    {
      "cell_type": "markdown",
      "source": [
        "## Train, valid"
      ],
      "metadata": {
        "id": "OfA2NFLSUAZ6"
      }
    },
    {
      "cell_type": "code",
      "source": [
        "## Find length of longest tweet(for embedding)\n",
        "length_of_the_tweets = traindf['text'].str.split(\"\\\\s+\")\n",
        "\n",
        "print(length_of_the_tweets)\n",
        "print('Max number of words = ', length_of_the_tweets.str.len().max())\n",
        "print('Index = ', length_of_the_tweets.str.len().idxmax())"
      ],
      "metadata": {
        "colab": {
          "base_uri": "https://localhost:8080/"
        },
        "id": "dIwNwCVlILzn",
        "outputId": "bbc18651-aa07-470e-f376-2e30bede49bd"
      },
      "execution_count": null,
      "outputs": [
        {
          "output_type": "stream",
          "name": "stdout",
          "text": [
            "0          [awww, bummer, shoulda, got, david, carr, thir...\n",
            "1          [upset, update, facebook, texting, might, cry,...\n",
            "2          [dived, many, times, ball, managed, save, 50, ...\n",
            "3                    [whole, body, feels, itchy, like, fire]\n",
            "4                                       [behaving, mad, see]\n",
            "                                 ...                        \n",
            "1599995                  [woke, school, best, feeling, ever]\n",
            "1599996     [thewdb, com, cool, hear, old, walt, interviews]\n",
            "1599997                [ready, mojo, makeover, ask, details]\n",
            "1599998    [happy, 38th, birthday, boo, alll, time, tupac...\n",
            "1599999                                              [happy]\n",
            "Name: text, Length: 1600000, dtype: object\n",
            "Max number of words =  50\n",
            "Index =  1447652\n"
          ]
        }
      ]
    },
    {
      "cell_type": "code",
      "source": [
        "TRAIN_SIZE = 0.8\n",
        "MAX_SEQUENCE_LENGTH = length_of_the_tweets.str.len().max() # 50"
      ],
      "metadata": {
        "id": "p3tNDN6NM2Mn"
      },
      "execution_count": null,
      "outputs": []
    },
    {
      "cell_type": "code",
      "source": [
        "train_data, valid_data = train_test_split(traindf, test_size=1-TRAIN_SIZE, random_state=7) \n",
        "test_data = testdf\n",
        "print(\"Train Data size: \", len(train_data))\n",
        "print(\"Valid Data size:  \", len(valid_data))\n",
        "print(\"Test Data size:  \", len(test_data))"
      ],
      "metadata": {
        "colab": {
          "base_uri": "https://localhost:8080/"
        },
        "id": "GYdvqYvDM4og",
        "outputId": "5a44dd4a-1c44-4b17-a80d-0e59029865fd"
      },
      "execution_count": null,
      "outputs": [
        {
          "output_type": "stream",
          "name": "stdout",
          "text": [
            "Train Data size:  1280000\n",
            "Valid Data size:   320000\n",
            "Test Data size:   359\n"
          ]
        }
      ]
    },
    {
      "cell_type": "code",
      "source": [
        "train_data"
      ],
      "metadata": {
        "colab": {
          "base_uri": "https://localhost:8080/",
          "height": 423
        },
        "id": "5w0pzinpSg0d",
        "outputId": "23f9cf71-f577-40cf-f27b-7c23a754aaf3"
      },
      "execution_count": null,
      "outputs": [
        {
          "output_type": "execute_result",
          "data": {
            "text/html": [
              "\n",
              "  <div id=\"df-42877cbe-176d-43da-b209-868a59d6c5c6\">\n",
              "    <div class=\"colab-df-container\">\n",
              "      <div>\n",
              "<style scoped>\n",
              "    .dataframe tbody tr th:only-of-type {\n",
              "        vertical-align: middle;\n",
              "    }\n",
              "\n",
              "    .dataframe tbody tr th {\n",
              "        vertical-align: top;\n",
              "    }\n",
              "\n",
              "    .dataframe thead th {\n",
              "        text-align: right;\n",
              "    }\n",
              "</style>\n",
              "<table border=\"1\" class=\"dataframe\">\n",
              "  <thead>\n",
              "    <tr style=\"text-align: right;\">\n",
              "      <th></th>\n",
              "      <th>polarity</th>\n",
              "      <th>text</th>\n",
              "    </tr>\n",
              "  </thead>\n",
              "  <tbody>\n",
              "    <tr>\n",
              "      <th>23786</th>\n",
              "      <td>0</td>\n",
              "      <td>need friends</td>\n",
              "    </tr>\n",
              "    <tr>\n",
              "      <th>182699</th>\n",
              "      <td>0</td>\n",
              "      <td>im trying call impossible</td>\n",
              "    </tr>\n",
              "    <tr>\n",
              "      <th>476661</th>\n",
              "      <td>0</td>\n",
              "      <td>good pace going 3k 13 min missed 5k turn ended...</td>\n",
              "    </tr>\n",
              "    <tr>\n",
              "      <th>1181490</th>\n",
              "      <td>1</td>\n",
              "      <td>u gonna shows ny soon luv see u live</td>\n",
              "    </tr>\n",
              "    <tr>\n",
              "      <th>878773</th>\n",
              "      <td>1</td>\n",
              "      <td>hell yea get em tattoos ink free wish parents ...</td>\n",
              "    </tr>\n",
              "    <tr>\n",
              "      <th>...</th>\n",
              "      <td>...</td>\n",
              "      <td>...</td>\n",
              "    </tr>\n",
              "    <tr>\n",
              "      <th>839891</th>\n",
              "      <td>1</td>\n",
              "      <td>say anything amsterdam tom wrote plan come eur...</td>\n",
              "    </tr>\n",
              "    <tr>\n",
              "      <th>535030</th>\n",
              "      <td>0</td>\n",
              "      <td>wishing back nyc pals</td>\n",
              "    </tr>\n",
              "    <tr>\n",
              "      <th>573977</th>\n",
              "      <td>0</td>\n",
              "      <td>itunes store says quot download free updates q...</td>\n",
              "    </tr>\n",
              "    <tr>\n",
              "      <th>1238212</th>\n",
              "      <td>1</td>\n",
              "      <td>sunburnt british weather good times x</td>\n",
              "    </tr>\n",
              "    <tr>\n",
              "      <th>585903</th>\n",
              "      <td>0</td>\n",
              "      <td>idea depend transportation situation tranny fe...</td>\n",
              "    </tr>\n",
              "  </tbody>\n",
              "</table>\n",
              "<p>1280000 rows × 2 columns</p>\n",
              "</div>\n",
              "      <button class=\"colab-df-convert\" onclick=\"convertToInteractive('df-42877cbe-176d-43da-b209-868a59d6c5c6')\"\n",
              "              title=\"Convert this dataframe to an interactive table.\"\n",
              "              style=\"display:none;\">\n",
              "        \n",
              "  <svg xmlns=\"http://www.w3.org/2000/svg\" height=\"24px\"viewBox=\"0 0 24 24\"\n",
              "       width=\"24px\">\n",
              "    <path d=\"M0 0h24v24H0V0z\" fill=\"none\"/>\n",
              "    <path d=\"M18.56 5.44l.94 2.06.94-2.06 2.06-.94-2.06-.94-.94-2.06-.94 2.06-2.06.94zm-11 1L8.5 8.5l.94-2.06 2.06-.94-2.06-.94L8.5 2.5l-.94 2.06-2.06.94zm10 10l.94 2.06.94-2.06 2.06-.94-2.06-.94-.94-2.06-.94 2.06-2.06.94z\"/><path d=\"M17.41 7.96l-1.37-1.37c-.4-.4-.92-.59-1.43-.59-.52 0-1.04.2-1.43.59L10.3 9.45l-7.72 7.72c-.78.78-.78 2.05 0 2.83L4 21.41c.39.39.9.59 1.41.59.51 0 1.02-.2 1.41-.59l7.78-7.78 2.81-2.81c.8-.78.8-2.07 0-2.86zM5.41 20L4 18.59l7.72-7.72 1.47 1.35L5.41 20z\"/>\n",
              "  </svg>\n",
              "      </button>\n",
              "      \n",
              "  <style>\n",
              "    .colab-df-container {\n",
              "      display:flex;\n",
              "      flex-wrap:wrap;\n",
              "      gap: 12px;\n",
              "    }\n",
              "\n",
              "    .colab-df-convert {\n",
              "      background-color: #E8F0FE;\n",
              "      border: none;\n",
              "      border-radius: 50%;\n",
              "      cursor: pointer;\n",
              "      display: none;\n",
              "      fill: #1967D2;\n",
              "      height: 32px;\n",
              "      padding: 0 0 0 0;\n",
              "      width: 32px;\n",
              "    }\n",
              "\n",
              "    .colab-df-convert:hover {\n",
              "      background-color: #E2EBFA;\n",
              "      box-shadow: 0px 1px 2px rgba(60, 64, 67, 0.3), 0px 1px 3px 1px rgba(60, 64, 67, 0.15);\n",
              "      fill: #174EA6;\n",
              "    }\n",
              "\n",
              "    [theme=dark] .colab-df-convert {\n",
              "      background-color: #3B4455;\n",
              "      fill: #D2E3FC;\n",
              "    }\n",
              "\n",
              "    [theme=dark] .colab-df-convert:hover {\n",
              "      background-color: #434B5C;\n",
              "      box-shadow: 0px 1px 3px 1px rgba(0, 0, 0, 0.15);\n",
              "      filter: drop-shadow(0px 1px 2px rgba(0, 0, 0, 0.3));\n",
              "      fill: #FFFFFF;\n",
              "    }\n",
              "  </style>\n",
              "\n",
              "      <script>\n",
              "        const buttonEl =\n",
              "          document.querySelector('#df-42877cbe-176d-43da-b209-868a59d6c5c6 button.colab-df-convert');\n",
              "        buttonEl.style.display =\n",
              "          google.colab.kernel.accessAllowed ? 'block' : 'none';\n",
              "\n",
              "        async function convertToInteractive(key) {\n",
              "          const element = document.querySelector('#df-42877cbe-176d-43da-b209-868a59d6c5c6');\n",
              "          const dataTable =\n",
              "            await google.colab.kernel.invokeFunction('convertToInteractive',\n",
              "                                                     [key], {});\n",
              "          if (!dataTable) return;\n",
              "\n",
              "          const docLinkHtml = 'Like what you see? Visit the ' +\n",
              "            '<a target=\"_blank\" href=https://colab.research.google.com/notebooks/data_table.ipynb>data table notebook</a>'\n",
              "            + ' to learn more about interactive tables.';\n",
              "          element.innerHTML = '';\n",
              "          dataTable['output_type'] = 'display_data';\n",
              "          await google.colab.output.renderOutput(dataTable, element);\n",
              "          const docLink = document.createElement('div');\n",
              "          docLink.innerHTML = docLinkHtml;\n",
              "          element.appendChild(docLink);\n",
              "        }\n",
              "      </script>\n",
              "    </div>\n",
              "  </div>\n",
              "  "
            ],
            "text/plain": [
              "         polarity                                               text\n",
              "23786           0                                       need friends\n",
              "182699          0                          im trying call impossible\n",
              "476661          0  good pace going 3k 13 min missed 5k turn ended...\n",
              "1181490         1               u gonna shows ny soon luv see u live\n",
              "878773          1  hell yea get em tattoos ink free wish parents ...\n",
              "...           ...                                                ...\n",
              "839891          1  say anything amsterdam tom wrote plan come eur...\n",
              "535030          0                              wishing back nyc pals\n",
              "573977          0  itunes store says quot download free updates q...\n",
              "1238212         1              sunburnt british weather good times x\n",
              "585903          0  idea depend transportation situation tranny fe...\n",
              "\n",
              "[1280000 rows x 2 columns]"
            ]
          },
          "metadata": {},
          "execution_count": 23
        }
      ]
    },
    {
      "cell_type": "markdown",
      "source": [
        "bert"
      ],
      "metadata": {
        "id": "wTlZV4fgoY3L"
      }
    },
    {
      "cell_type": "code",
      "source": [
        "! pip install transformers"
      ],
      "metadata": {
        "colab": {
          "base_uri": "https://localhost:8080/"
        },
        "id": "J3EMK_9dm4GO",
        "outputId": "601e1cc9-28bc-4c94-c721-0927274a3641"
      },
      "execution_count": null,
      "outputs": [
        {
          "output_type": "stream",
          "name": "stdout",
          "text": [
            "Requirement already satisfied: transformers in /usr/local/lib/python3.7/dist-packages (4.15.0)\n",
            "Requirement already satisfied: tokenizers<0.11,>=0.10.1 in /usr/local/lib/python3.7/dist-packages (from transformers) (0.10.3)\n",
            "Requirement already satisfied: numpy>=1.17 in /usr/local/lib/python3.7/dist-packages (from transformers) (1.19.5)\n",
            "Requirement already satisfied: packaging>=20.0 in /usr/local/lib/python3.7/dist-packages (from transformers) (21.3)\n",
            "Requirement already satisfied: importlib-metadata in /usr/local/lib/python3.7/dist-packages (from transformers) (4.8.2)\n",
            "Requirement already satisfied: huggingface-hub<1.0,>=0.1.0 in /usr/local/lib/python3.7/dist-packages (from transformers) (0.2.1)\n",
            "Requirement already satisfied: requests in /usr/local/lib/python3.7/dist-packages (from transformers) (2.23.0)\n",
            "Requirement already satisfied: tqdm>=4.27 in /usr/local/lib/python3.7/dist-packages (from transformers) (4.62.3)\n",
            "Requirement already satisfied: filelock in /usr/local/lib/python3.7/dist-packages (from transformers) (3.4.0)\n",
            "Requirement already satisfied: pyyaml>=5.1 in /usr/local/lib/python3.7/dist-packages (from transformers) (6.0)\n",
            "Requirement already satisfied: sacremoses in /usr/local/lib/python3.7/dist-packages (from transformers) (0.0.46)\n",
            "Requirement already satisfied: regex!=2019.12.17 in /usr/local/lib/python3.7/dist-packages (from transformers) (2019.12.20)\n",
            "Requirement already satisfied: typing-extensions>=3.7.4.3 in /usr/local/lib/python3.7/dist-packages (from huggingface-hub<1.0,>=0.1.0->transformers) (3.10.0.2)\n",
            "Requirement already satisfied: pyparsing!=3.0.5,>=2.0.2 in /usr/local/lib/python3.7/dist-packages (from packaging>=20.0->transformers) (3.0.6)\n",
            "Requirement already satisfied: zipp>=0.5 in /usr/local/lib/python3.7/dist-packages (from importlib-metadata->transformers) (3.6.0)\n",
            "Requirement already satisfied: certifi>=2017.4.17 in /usr/local/lib/python3.7/dist-packages (from requests->transformers) (2021.10.8)\n",
            "Requirement already satisfied: urllib3!=1.25.0,!=1.25.1,<1.26,>=1.21.1 in /usr/local/lib/python3.7/dist-packages (from requests->transformers) (1.24.3)\n",
            "Requirement already satisfied: chardet<4,>=3.0.2 in /usr/local/lib/python3.7/dist-packages (from requests->transformers) (3.0.4)\n",
            "Requirement already satisfied: idna<3,>=2.5 in /usr/local/lib/python3.7/dist-packages (from requests->transformers) (2.10)\n",
            "Requirement already satisfied: click in /usr/local/lib/python3.7/dist-packages (from sacremoses->transformers) (7.1.2)\n",
            "Requirement already satisfied: six in /usr/local/lib/python3.7/dist-packages (from sacremoses->transformers) (1.15.0)\n",
            "Requirement already satisfied: joblib in /usr/local/lib/python3.7/dist-packages (from sacremoses->transformers) (1.1.0)\n"
          ]
        }
      ]
    },
    {
      "cell_type": "code",
      "source": [
        "# hyperparameters\n",
        "max_length = 50 #140\n",
        "batch_size = 512"
      ],
      "metadata": {
        "id": "6rYeYYKnm4D3"
      },
      "execution_count": null,
      "outputs": []
    },
    {
      "cell_type": "code",
      "source": [
        "from transformers import BertTokenizer, TFBertModel"
      ],
      "metadata": {
        "id": "I5boYcI2oVlC"
      },
      "execution_count": null,
      "outputs": []
    },
    {
      "cell_type": "code",
      "source": [
        "# Bert Tokenizer\n",
        "model_name = \"bert-base-cased\"\n",
        "tokenizer = BertTokenizer.from_pretrained(model_name)"
      ],
      "metadata": {
        "id": "kH8W8NnToQ37"
      },
      "execution_count": null,
      "outputs": []
    },
    {
      "cell_type": "code",
      "source": [
        "def bert_encode(data):\n",
        "    tokens = tokenizer.batch_encode_plus(data, max_length=max_length, padding='max_length', truncation=True)\n",
        "    return tf.constant(tokens['input_ids'])"
      ],
      "metadata": {
        "id": "xX6GD7_0m4BK"
      },
      "execution_count": null,
      "outputs": []
    },
    {
      "cell_type": "code",
      "source": [
        "bert_encode(train_data.text)"
      ],
      "metadata": {
        "colab": {
          "base_uri": "https://localhost:8080/",
          "height": 502
        },
        "id": "Jg7GH0yrm3-P",
        "outputId": "2cc3f701-ce5e-4c85-b541-899503fdad60"
      },
      "execution_count": null,
      "outputs": [
        {
          "output_type": "error",
          "ename": "ValueError",
          "evalue": "ignored",
          "traceback": [
            "\u001b[0;31m---------------------------------------------------------------------------\u001b[0m",
            "\u001b[0;31mValueError\u001b[0m                                Traceback (most recent call last)",
            "\u001b[0;32m<ipython-input-84-48c274205a0b>\u001b[0m in \u001b[0;36m<module>\u001b[0;34m()\u001b[0m\n\u001b[0;32m----> 1\u001b[0;31m \u001b[0mbert_encode\u001b[0m\u001b[0;34m(\u001b[0m\u001b[0mtrain_data\u001b[0m\u001b[0;34m.\u001b[0m\u001b[0mtext\u001b[0m\u001b[0;34m)\u001b[0m\u001b[0;34m\u001b[0m\u001b[0;34m\u001b[0m\u001b[0m\n\u001b[0m",
            "\u001b[0;32m<ipython-input-82-53f41d09ea00>\u001b[0m in \u001b[0;36mbert_encode\u001b[0;34m(data)\u001b[0m\n\u001b[1;32m      1\u001b[0m \u001b[0;32mdef\u001b[0m \u001b[0mbert_encode\u001b[0m\u001b[0;34m(\u001b[0m\u001b[0mdata\u001b[0m\u001b[0;34m)\u001b[0m\u001b[0;34m:\u001b[0m\u001b[0;34m\u001b[0m\u001b[0;34m\u001b[0m\u001b[0m\n\u001b[0;32m----> 2\u001b[0;31m     \u001b[0mtokens\u001b[0m \u001b[0;34m=\u001b[0m \u001b[0mtokenizer\u001b[0m\u001b[0;34m.\u001b[0m\u001b[0mencode_plus\u001b[0m\u001b[0;34m(\u001b[0m\u001b[0mdata\u001b[0m\u001b[0;34m,\u001b[0m \u001b[0mmax_length\u001b[0m\u001b[0;34m=\u001b[0m\u001b[0mmax_length\u001b[0m\u001b[0;34m,\u001b[0m \u001b[0mpadding\u001b[0m\u001b[0;34m=\u001b[0m\u001b[0;34m'max_length'\u001b[0m\u001b[0;34m,\u001b[0m \u001b[0mtruncation\u001b[0m\u001b[0;34m=\u001b[0m\u001b[0;32mTrue\u001b[0m\u001b[0;34m)\u001b[0m\u001b[0;34m\u001b[0m\u001b[0;34m\u001b[0m\u001b[0m\n\u001b[0m\u001b[1;32m      3\u001b[0m     \u001b[0;32mreturn\u001b[0m \u001b[0mtf\u001b[0m\u001b[0;34m.\u001b[0m\u001b[0mconstant\u001b[0m\u001b[0;34m(\u001b[0m\u001b[0mtokens\u001b[0m\u001b[0;34m[\u001b[0m\u001b[0;34m'input_ids'\u001b[0m\u001b[0;34m]\u001b[0m\u001b[0;34m)\u001b[0m\u001b[0;34m\u001b[0m\u001b[0;34m\u001b[0m\u001b[0m\n",
            "\u001b[0;32m/usr/local/lib/python3.7/dist-packages/transformers/tokenization_utils_base.py\u001b[0m in \u001b[0;36mencode_plus\u001b[0;34m(self, text, text_pair, add_special_tokens, padding, truncation, max_length, stride, is_split_into_words, pad_to_multiple_of, return_tensors, return_token_type_ids, return_attention_mask, return_overflowing_tokens, return_special_tokens_mask, return_offsets_mapping, return_length, verbose, **kwargs)\u001b[0m\n\u001b[1;32m   2527\u001b[0m             \u001b[0mreturn_length\u001b[0m\u001b[0;34m=\u001b[0m\u001b[0mreturn_length\u001b[0m\u001b[0;34m,\u001b[0m\u001b[0;34m\u001b[0m\u001b[0;34m\u001b[0m\u001b[0m\n\u001b[1;32m   2528\u001b[0m             \u001b[0mverbose\u001b[0m\u001b[0;34m=\u001b[0m\u001b[0mverbose\u001b[0m\u001b[0;34m,\u001b[0m\u001b[0;34m\u001b[0m\u001b[0;34m\u001b[0m\u001b[0m\n\u001b[0;32m-> 2529\u001b[0;31m             \u001b[0;34m**\u001b[0m\u001b[0mkwargs\u001b[0m\u001b[0;34m,\u001b[0m\u001b[0;34m\u001b[0m\u001b[0;34m\u001b[0m\u001b[0m\n\u001b[0m\u001b[1;32m   2530\u001b[0m         )\n\u001b[1;32m   2531\u001b[0m \u001b[0;34m\u001b[0m\u001b[0m\n",
            "\u001b[0;32m/usr/local/lib/python3.7/dist-packages/transformers/tokenization_utils.py\u001b[0m in \u001b[0;36m_encode_plus\u001b[0;34m(self, text, text_pair, add_special_tokens, padding_strategy, truncation_strategy, max_length, stride, is_split_into_words, pad_to_multiple_of, return_tensors, return_token_type_ids, return_attention_mask, return_overflowing_tokens, return_special_tokens_mask, return_offsets_mapping, return_length, verbose, **kwargs)\u001b[0m\n\u001b[1;32m    638\u001b[0m             )\n\u001b[1;32m    639\u001b[0m \u001b[0;34m\u001b[0m\u001b[0m\n\u001b[0;32m--> 640\u001b[0;31m         \u001b[0mfirst_ids\u001b[0m \u001b[0;34m=\u001b[0m \u001b[0mget_input_ids\u001b[0m\u001b[0;34m(\u001b[0m\u001b[0mtext\u001b[0m\u001b[0;34m)\u001b[0m\u001b[0;34m\u001b[0m\u001b[0;34m\u001b[0m\u001b[0m\n\u001b[0m\u001b[1;32m    641\u001b[0m         \u001b[0msecond_ids\u001b[0m \u001b[0;34m=\u001b[0m \u001b[0mget_input_ids\u001b[0m\u001b[0;34m(\u001b[0m\u001b[0mtext_pair\u001b[0m\u001b[0;34m)\u001b[0m \u001b[0;32mif\u001b[0m \u001b[0mtext_pair\u001b[0m \u001b[0;32mis\u001b[0m \u001b[0;32mnot\u001b[0m \u001b[0;32mNone\u001b[0m \u001b[0;32melse\u001b[0m \u001b[0;32mNone\u001b[0m\u001b[0;34m\u001b[0m\u001b[0;34m\u001b[0m\u001b[0m\n\u001b[1;32m    642\u001b[0m \u001b[0;34m\u001b[0m\u001b[0m\n",
            "\u001b[0;32m/usr/local/lib/python3.7/dist-packages/transformers/tokenization_utils.py\u001b[0m in \u001b[0;36mget_input_ids\u001b[0;34m(text)\u001b[0m\n\u001b[1;32m    626\u001b[0m                 \u001b[0;32melse\u001b[0m\u001b[0;34m:\u001b[0m\u001b[0;34m\u001b[0m\u001b[0;34m\u001b[0m\u001b[0m\n\u001b[1;32m    627\u001b[0m                     raise ValueError(\n\u001b[0;32m--> 628\u001b[0;31m                         \u001b[0;34mf\"Input {text} is not valid. Should be a string, a list/tuple of strings or a list/tuple of integers.\"\u001b[0m\u001b[0;34m\u001b[0m\u001b[0;34m\u001b[0m\u001b[0m\n\u001b[0m\u001b[1;32m    629\u001b[0m                     )\n\u001b[1;32m    630\u001b[0m \u001b[0;34m\u001b[0m\u001b[0m\n",
            "\u001b[0;31mValueError\u001b[0m: Input 23786                                           need friends\n182699                             im trying call impossible\n476661     good pace going 3k 13 min missed 5k turn ended...\n1181490                 u gonna shows ny soon luv see u live\n878773     hell yea get em tattoos ink free wish parents ...\n                                 ...                        \n839891     say anything amsterdam tom wrote plan come eur...\n535030                                 wishing back nyc pals\n573977     itunes store says quot download free updates q...\n1238212                sunburnt british weather good times x\n585903     idea depend transportation situation tranny fe...\nName: text, Length: 1280000, dtype: object is not valid. Should be a string, a list/tuple of strings or a list/tuple of integers."
          ]
        }
      ]
    },
    {
      "cell_type": "code",
      "source": [
        "bert_encode(train_data.text[12])"
      ],
      "metadata": {
        "colab": {
          "base_uri": "https://localhost:8080/"
        },
        "id": "H_5N1xBro8jw",
        "outputId": "b4b75be6-bd2b-45f4-8c28-7fdb6f864599"
      },
      "execution_count": null,
      "outputs": [
        {
          "output_type": "execute_result",
          "data": {
            "text/plain": [
              "<tf.Tensor: shape=(39, 50), dtype=int32, numpy=\n",
              "array([[101, 171, 102, ...,   0,   0,   0],\n",
              "       [101, 174, 102, ...,   0,   0,   0],\n",
              "       [101, 170, 102, ...,   0,   0,   0],\n",
              "       ...,\n",
              "       [101, 178, 102, ...,   0,   0,   0],\n",
              "       [101, 183, 102, ...,   0,   0,   0],\n",
              "       [101, 176, 102, ...,   0,   0,   0]], dtype=int32)>"
            ]
          },
          "metadata": {},
          "execution_count": 86
        }
      ]
    },
    {
      "cell_type": "code",
      "source": [
        "bert_encode('h')"
      ],
      "metadata": {
        "colab": {
          "base_uri": "https://localhost:8080/"
        },
        "id": "CnLM-R__m36J",
        "outputId": "637d767f-374a-429b-e9a1-efbe7fef5e21"
      },
      "execution_count": null,
      "outputs": [
        {
          "output_type": "stream",
          "name": "stdout",
          "text": [
            "{'input_ids': [[101, 177, 102, 0, 0, 0, 0, 0, 0, 0, 0, 0, 0, 0, 0, 0, 0, 0, 0, 0, 0, 0, 0, 0, 0, 0, 0, 0, 0, 0, 0, 0, 0, 0, 0, 0, 0, 0, 0, 0, 0, 0, 0, 0, 0, 0, 0, 0, 0, 0]], 'token_type_ids': [[0, 0, 0, 0, 0, 0, 0, 0, 0, 0, 0, 0, 0, 0, 0, 0, 0, 0, 0, 0, 0, 0, 0, 0, 0, 0, 0, 0, 0, 0, 0, 0, 0, 0, 0, 0, 0, 0, 0, 0, 0, 0, 0, 0, 0, 0, 0, 0, 0, 0]], 'attention_mask': [[1, 1, 1, 0, 0, 0, 0, 0, 0, 0, 0, 0, 0, 0, 0, 0, 0, 0, 0, 0, 0, 0, 0, 0, 0, 0, 0, 0, 0, 0, 0, 0, 0, 0, 0, 0, 0, 0, 0, 0, 0, 0, 0, 0, 0, 0, 0, 0, 0, 0]]}\n"
          ]
        },
        {
          "output_type": "execute_result",
          "data": {
            "text/plain": [
              "<tf.Tensor: shape=(1, 50), dtype=int32, numpy=\n",
              "array([[101, 177, 102,   0,   0,   0,   0,   0,   0,   0,   0,   0,   0,\n",
              "          0,   0,   0,   0,   0,   0,   0,   0,   0,   0,   0,   0,   0,\n",
              "          0,   0,   0,   0,   0,   0,   0,   0,   0,   0,   0,   0,   0,\n",
              "          0,   0,   0,   0,   0,   0,   0,   0,   0,   0,   0]],\n",
              "      dtype=int32)>"
            ]
          },
          "metadata": {},
          "execution_count": 65
        }
      ]
    },
    {
      "cell_type": "code",
      "source": [
        "tokenizer.encode_plus('jghj uhlkj', max_length=max_length, padding='max_length', truncation=True)"
      ],
      "metadata": {
        "colab": {
          "base_uri": "https://localhost:8080/"
        },
        "id": "WVnGuUx9w03E",
        "outputId": "5b352b7d-5132-49b0-8161-dbfd673dfdca"
      },
      "execution_count": null,
      "outputs": [
        {
          "output_type": "execute_result",
          "data": {
            "text/plain": [
              "{'input_ids': [101, 179, 5084, 3361, 14863, 102, 0, 0, 0, 0, 0, 0, 0, 0, 0, 0, 0, 0, 0, 0, 0, 0, 0, 0, 0, 0, 0, 0, 0, 0, 0, 0, 0, 0, 0, 0, 0, 0, 0, 0, 0, 0, 0, 0, 0, 0, 0, 0, 0, 0], 'token_type_ids': [0, 0, 0, 0, 0, 0, 0, 0, 0, 0, 0, 0, 0, 0, 0, 0, 0, 0, 0, 0, 0, 0, 0, 0, 0, 0, 0, 0, 0, 0, 0, 0, 0, 0, 0, 0, 0, 0, 0, 0, 0, 0, 0, 0, 0, 0, 0, 0, 0, 0], 'attention_mask': [1, 1, 1, 1, 1, 1, 0, 0, 0, 0, 0, 0, 0, 0, 0, 0, 0, 0, 0, 0, 0, 0, 0, 0, 0, 0, 0, 0, 0, 0, 0, 0, 0, 0, 0, 0, 0, 0, 0, 0, 0, 0, 0, 0, 0, 0, 0, 0, 0, 0]}"
            ]
          },
          "metadata": {},
          "execution_count": 81
        }
      ]
    },
    {
      "cell_type": "markdown",
      "source": [
        "bert"
      ],
      "metadata": {
        "id": "wZ7SDgnSob42"
      }
    },
    {
      "cell_type": "markdown",
      "source": [
        "## Tokenization"
      ],
      "metadata": {
        "id": "cmVWegNPMha5"
      }
    },
    {
      "cell_type": "code",
      "source": [
        "tokenizer = Tokenizer() # create tokens for every word in the data corpus and map them to a index using dictionary\n",
        "tokenizer.fit_on_texts(train_data.text)\n",
        "\n",
        "word_index = tokenizer.word_index # contains the index for each word\n",
        "vocab_size = len(tokenizer.word_index) + 1\n",
        "print(\"Vocabulary Size :\", vocab_size)"
      ],
      "metadata": {
        "colab": {
          "base_uri": "https://localhost:8080/"
        },
        "id": "e1jXehzVMg-D",
        "outputId": "c0f19172-bbb0-4846-bce4-137517e52ecd"
      },
      "execution_count": null,
      "outputs": [
        {
          "output_type": "stream",
          "name": "stdout",
          "text": [
            "Vocabulary Size : 240624\n"
          ]
        }
      ]
    },
    {
      "cell_type": "code",
      "source": [
        "x_train = pad_sequences(tokenizer.texts_to_sequences(train_data.text),\n",
        "                        maxlen = MAX_SEQUENCE_LENGTH)\n",
        "x_valid = pad_sequences(tokenizer.texts_to_sequences(valid_data.text),\n",
        "                       maxlen = MAX_SEQUENCE_LENGTH)\n",
        "x_test = pad_sequences(tokenizer.texts_to_sequences(test_data.text),\n",
        "                       maxlen = MAX_SEQUENCE_LENGTH)\n",
        "\n",
        "print(\"Train X Shape:\",x_train.shape)\n",
        "print(\"Valid X Shape:\",x_valid.shape)\n",
        "print(\"Test X Shape:\",x_test.shape)"
      ],
      "metadata": {
        "colab": {
          "base_uri": "https://localhost:8080/"
        },
        "id": "Lq3Xbl7TUjHg",
        "outputId": "918f23f1-19ae-43b2-9260-196e6e76efa7"
      },
      "execution_count": null,
      "outputs": [
        {
          "output_type": "stream",
          "name": "stdout",
          "text": [
            "Train X Shape: (1280000, 50)\n",
            "Valid X Shape: (320000, 50)\n",
            "Test X Shape: (359, 50)\n"
          ]
        }
      ]
    },
    {
      "cell_type": "code",
      "source": [
        "labels = train_data.polarity.unique().tolist()"
      ],
      "metadata": {
        "id": "nCWLx5ReUkWh"
      },
      "execution_count": null,
      "outputs": []
    },
    {
      "cell_type": "markdown",
      "source": [
        "## Label Encoding"
      ],
      "metadata": {
        "id": "8a4FwsSgWexH"
      }
    },
    {
      "cell_type": "code",
      "source": [
        "encoder = LabelEncoder()\n",
        "encoder.fit(train_data.polarity.to_list())\n",
        "\n",
        "y_train = encoder.transform(train_data.polarity.to_list())\n",
        "y_valid = encoder.transform(valid_data.polarity.to_list())\n",
        "y_test  = encoder.transform(test_data.polarity.to_list())\n",
        "\n",
        "y_train = y_train.reshape(-1,1)\n",
        "y_valid = y_valid.reshape(-1,1)\n",
        "y_test  = y_test.reshape(-1,1)\n",
        "\n",
        "print(\"y_train shape:\", y_train.shape)\n",
        "print(\"y_valid shape: \", y_valid.shape)\n",
        "print(\"y_test shape: \", y_test.shape)"
      ],
      "metadata": {
        "colab": {
          "base_uri": "https://localhost:8080/"
        },
        "id": "AVMCOfGvWTWK",
        "outputId": "7f5c3aee-cc31-4d01-cfcb-855e4ebc4abe"
      },
      "execution_count": null,
      "outputs": [
        {
          "output_type": "stream",
          "name": "stdout",
          "text": [
            "y_train shape: (1280000, 1)\n",
            "y_valid shape:  (320000, 1)\n",
            "y_test shape:  (359, 1)\n"
          ]
        }
      ]
    },
    {
      "cell_type": "markdown",
      "source": [
        "## Word Emdedding"
      ],
      "metadata": {
        "id": "SETJeu3xXeY_"
      }
    },
    {
      "cell_type": "code",
      "source": [
        "EMBEDDING_DIM = 300\n",
        "LR = 1e-3\n",
        "BATCH_SIZE = 1024\n",
        "EPOCHS = 10"
      ],
      "metadata": {
        "id": "3plY6NjvWi-y"
      },
      "execution_count": null,
      "outputs": []
    },
    {
      "cell_type": "code",
      "source": [
        "embeddings_index = {}\n",
        "\n",
        "f = open('./glove.42B.300d.txt')\n",
        "for line in f:\n",
        "  values = line.split()\n",
        "  word = value = values[0]\n",
        "  coefs = np.asarray(values[1:], dtype='float32')\n",
        "  embeddings_index[word] = coefs\n",
        "f.close()\n",
        "\n",
        "print('Found %s word vectors.' %len(embeddings_index))"
      ],
      "metadata": {
        "colab": {
          "base_uri": "https://localhost:8080/"
        },
        "id": "7iJvh1Flcjlb",
        "outputId": "6cd9e844-3ce5-477a-f2fe-002f77a2c74d"
      },
      "execution_count": null,
      "outputs": [
        {
          "output_type": "stream",
          "name": "stdout",
          "text": [
            "Found 1917494 word vectors.\n"
          ]
        }
      ]
    },
    {
      "cell_type": "code",
      "source": [
        "embeddings_val = embeddings_index.values() \n",
        "embeddings_mean = sum(list(embeddings_val))/len(list(embeddings_val))\n",
        "\n",
        "embedding_matrix = np.zeros((vocab_size, EMBEDDING_DIM))\n",
        "for word, i in word_index.items():\n",
        "  embedding_vector = embeddings_index.get(word)\n",
        "  if embedding_vector is not None:\n",
        "    embedding_matrix[i] = embedding_vector\n",
        "  else:\n",
        "    embedding_matrix[i] = embeddings_mean"
      ],
      "metadata": {
        "id": "pcLteKnLc0Sk"
      },
      "execution_count": null,
      "outputs": []
    },
    {
      "cell_type": "code",
      "source": [
        "# Generates Embedding Vector for each input sequence\n",
        "embedding_layer = tf.keras.layers.Embedding(vocab_size,\n",
        "                                          EMBEDDING_DIM,\n",
        "                                          weights=[embedding_matrix],\n",
        "                                          input_length=MAX_SEQUENCE_LENGTH,\n",
        "                                          trainable=False)"
      ],
      "metadata": {
        "id": "CeBWIMJsdNeT"
      },
      "execution_count": null,
      "outputs": []
    },
    {
      "cell_type": "markdown",
      "source": [
        "# Model Training"
      ],
      "metadata": {
        "id": "RYtuPKh19EUs"
      }
    },
    {
      "cell_type": "markdown",
      "source": [
        "## LSTM"
      ],
      "metadata": {
        "id": "-PGDSeZpLIKm"
      }
    },
    {
      "cell_type": "code",
      "source": [
        "def plot_curves(history):\n",
        "\t# plot loss\n",
        "\tplt.title('Cross Entropy Loss')\n",
        "\tplt.xlabel('Epoch')\n",
        "\tplt.ylabel('Loss')  \n",
        "\tplt.plot(history.history['loss'], label='train')\n",
        "\tplt.plot(history.history['val_loss'], label='valid')\n",
        "\tplt.legend() \n",
        "\tplt.show()\n",
        "\t# plot accuracy\n",
        "\tplt.title('Classification Accuracy')\n",
        "\tplt.xlabel('Epoch')\n",
        "\tplt.ylabel('Accuracy')   \n",
        "\tplt.plot(history.history['accuracy'], label='train')\n",
        "\tplt.plot(history.history['val_accuracy'], label='valid')\n",
        "\tplt.legend()\n",
        "\tplt.show()"
      ],
      "metadata": {
        "id": "_xDnDvzcgblw"
      },
      "execution_count": null,
      "outputs": []
    },
    {
      "cell_type": "code",
      "source": [
        "model = Sequential()\n",
        "model.add(embedding_layer)\n",
        "model.add(Dropout(0.2))\n",
        "model.add(LSTM(150, dropout=0.2, recurrent_dropout=0.2))\n",
        "model.add(Dense(1, activation='sigmoid'))\n",
        "\n",
        "model.summary()\n",
        "\n",
        "print('\\nTrain model:\\n')\n",
        "# ===================================================================\n",
        "model.compile(optimizer=Adam(learning_rate=0.001), loss='binary_crossentropy', metrics=['accuracy'])\n",
        "history = model.fit(x_train, y_train, batch_size=BATCH_SIZE, epochs=EPOCHS, validation_data=(x_valid, y_valid))\n",
        "\n",
        "# ===================================================================\n",
        "\n",
        "print('\\n ================================================================ \\n')\n",
        "score = model.evaluate(x_test, y_test, verbose=0)\n",
        "print(\"Test loss:    \", score[0])\n",
        "print(\"Test accuracy:\", score[1],'\\n')\n",
        "\n",
        "plot_curves(history)\n",
        "\n",
        "# Save model\n",
        "# model.save('./models/lstm.h5') \n",
        "# Load model: \n",
        "# model = load_model('./models/lstm.h5')"
      ],
      "metadata": {
        "colab": {
          "base_uri": "https://localhost:8080/",
          "height": 1000
        },
        "id": "qn85en6zeNCZ",
        "outputId": "37121f1c-9f58-4318-9b26-86ffdfe34c2f"
      },
      "execution_count": null,
      "outputs": [
        {
          "output_type": "stream",
          "name": "stdout",
          "text": [
            "WARNING:tensorflow:Layer lstm_15 will not use cuDNN kernels since it doesn't meet the criteria. It will use a generic GPU kernel as fallback when running on GPU.\n",
            "Model: \"sequential_15\"\n",
            "_________________________________________________________________\n",
            " Layer (type)                Output Shape              Param #   \n",
            "=================================================================\n",
            " embedding (Embedding)       (None, 50, 300)           72187200  \n",
            "                                                                 \n",
            " dropout_1 (Dropout)         (None, 50, 300)           0         \n",
            "                                                                 \n",
            " lstm_15 (LSTM)              (None, 150)               270600    \n",
            "                                                                 \n",
            " dense_15 (Dense)            (None, 1)                 151       \n",
            "                                                                 \n",
            "=================================================================\n",
            "Total params: 72,457,951\n",
            "Trainable params: 270,751\n",
            "Non-trainable params: 72,187,200\n",
            "_________________________________________________________________\n",
            "\n",
            "Train model:\n",
            "\n",
            "Epoch 1/10\n",
            "1250/1250 [==============================] - 294s 232ms/step - loss: 0.4950 - accuracy: 0.7564 - val_loss: 0.4576 - val_accuracy: 0.7817\n",
            "Epoch 2/10\n",
            "1250/1250 [==============================] - 289s 231ms/step - loss: 0.4634 - accuracy: 0.7780 - val_loss: 0.4489 - val_accuracy: 0.7863\n",
            "Epoch 3/10\n",
            "1250/1250 [==============================] - 298s 238ms/step - loss: 0.4526 - accuracy: 0.7846 - val_loss: 0.4391 - val_accuracy: 0.7934\n",
            "Epoch 4/10\n",
            "1250/1250 [==============================] - 278s 222ms/step - loss: 0.4459 - accuracy: 0.7885 - val_loss: 0.4351 - val_accuracy: 0.7949\n",
            "Epoch 5/10\n",
            "1250/1250 [==============================] - 282s 226ms/step - loss: 0.4408 - accuracy: 0.7916 - val_loss: 0.4334 - val_accuracy: 0.7971\n",
            "Epoch 6/10\n",
            "1250/1250 [==============================] - 279s 223ms/step - loss: 0.4366 - accuracy: 0.7942 - val_loss: 0.4314 - val_accuracy: 0.7979\n",
            "Epoch 7/10\n",
            "1250/1250 [==============================] - 282s 226ms/step - loss: 0.4339 - accuracy: 0.7957 - val_loss: 0.4302 - val_accuracy: 0.7992\n",
            "Epoch 8/10\n",
            "1250/1250 [==============================] - 282s 226ms/step - loss: 0.4309 - accuracy: 0.7979 - val_loss: 0.4279 - val_accuracy: 0.8004\n",
            "Epoch 9/10\n",
            "1250/1250 [==============================] - 285s 228ms/step - loss: 0.4289 - accuracy: 0.7987 - val_loss: 0.4320 - val_accuracy: 0.7988\n",
            "Epoch 10/10\n",
            "1250/1250 [==============================] - 284s 228ms/step - loss: 0.4270 - accuracy: 0.7999 - val_loss: 0.4296 - val_accuracy: 0.8002\n",
            "\n",
            " ================================================================ \n",
            "\n",
            "Test loss:     0.36805078387260437\n",
            "Test accuracy: 0.8384401202201843 \n",
            "\n"
          ]
        },
        {
          "output_type": "display_data",
          "data": {
            "image/png": "[encoded data removed]",
            "text/plain": [
              "<Figure size 432x288 with 1 Axes>"
            ]
          },
          "metadata": {
            "needs_background": "light"
          }
        },
        {
          "output_type": "display_data",
          "data": {
            "image/png": "[encoded data removed]",
            "text/plain": [
              "<Figure size 432x288 with 1 Axes>"
            ]
          },
          "metadata": {
            "needs_background": "light"
          }
        }
      ]
    },
    {
      "cell_type": "code",
      "source": [
        "def plot_confusion_matrix(y_test, y_prediction, class_names, Normalization=True):\n",
        "  con = tf.math.confusion_matrix(labels=y_test, predictions=y_prediction, num_classes=2).numpy()\n",
        "  df_cm = pd.DataFrame(con, index = [i for i in class_names], columns = [i for i in class_names])\n",
        "  if Normalization == False:\n",
        "    plt.figure(figsize = (6,6))\n",
        "    sn.heatmap(df_cm, annot=True, fmt='.0f',annot_kws={\"size\": 9})\n",
        "    plt.ylabel('Labels')\n",
        "    plt.xlabel('Predictions')\n",
        "    plt.title('Confusion Matrix')\n",
        "  else:\n",
        "    cmn = con.astype('float') / con.sum(axis=1)[:, np.newaxis]\n",
        "    df_cm = pd.DataFrame(cmn, index = [i for i in class_names], columns = [i for i in class_names])\n",
        "    plt.figure(figsize = (6,6))\n",
        "    sn.heatmap(df_cm, annot=True, fmt='.2f',annot_kws={\"size\": 9})\n",
        "    plt.ylabel('Labels')\n",
        "    plt.xlabel('Predictions')\n",
        "    plt.title('Confusion Matrix')"
      ],
      "metadata": {
        "id": "GFHpuvAD3SbR"
      },
      "execution_count": null,
      "outputs": []
    },
    {
      "cell_type": "code",
      "source": [
        "def decode_sentiment(score):\n",
        "    return 1 if score>0.5 else 0"
      ],
      "metadata": {
        "id": "eAvf3tZrIuRM"
      },
      "execution_count": null,
      "outputs": []
    },
    {
      "cell_type": "code",
      "source": [
        "model_out = model.predict(x_test)\n",
        "y_pred = [decode_sentiment(x) for x in model_out]\n",
        "plot_confusion_matrix(y_test, y_pred, [0,1])"
      ],
      "metadata": {
        "colab": {
          "base_uri": "https://localhost:8080/",
          "height": 404
        },
        "id": "-9YtqCH8Ixs-",
        "outputId": "bbd0b1ea-17e4-42ac-a4c7-525965374f17"
      },
      "execution_count": null,
      "outputs": [
        {
          "output_type": "display_data",
          "data": {
            "image/png": "[encoded data removed]",
            "text/plain": [
              "<Figure size 432x432 with 2 Axes>"
            ]
          },
          "metadata": {
            "needs_background": "light"
          }
        }
      ]
    },
    {
      "cell_type": "markdown",
      "source": [
        "## LSTM (Bidirectional)"
      ],
      "metadata": {
        "id": "e-kP1pQExRB-"
      }
    },
    {
      "cell_type": "code",
      "source": [
        "model = Sequential()\n",
        "model.add(embedding_layer)\n",
        "model.add(Dropout(0.2))\n",
        "model.add(Bidirectional(LSTM(150, dropout=0.2)))\n",
        "model.add(Dense(1, activation='sigmoid'))\n",
        "\n",
        "model.summary()\n",
        "\n",
        "print('\\nTrain model:\\n')\n",
        "# ===================================================================\n",
        "model.compile(optimizer=Adam(learning_rate=0.001), loss='binary_crossentropy', metrics=['accuracy'])\n",
        "\n",
        "history = model.fit(x_train, y_train, batch_size=BATCH_SIZE, epochs=EPOCHS, validation_data=(x_valid, y_valid))\n",
        "\n",
        "# ===================================================================\n",
        "\n",
        "print('\\n ================================================================ \\n')\n",
        "score = model.evaluate(x_test, y_test, verbose=0)\n",
        "print(\"Test loss:    \", score[0])\n",
        "print(\"Test accuracy:\", score[1],'\\n')\n",
        "\n",
        "plot_curves(history)\n",
        "\n",
        "# save model\n",
        "model.save('./models/lstm_bidirect1.h5')"
      ],
      "metadata": {
        "colab": {
          "base_uri": "https://localhost:8080/",
          "height": 1000
        },
        "outputId": "87c2b165-a784-45bd-bad2-c27c5c7b235b",
        "id": "GrqgdlpPXMM0"
      },
      "execution_count": null,
      "outputs": [
        {
          "output_type": "stream",
          "name": "stdout",
          "text": [
            "Model: \"sequential_1\"\n",
            "_________________________________________________________________\n",
            " Layer (type)                Output Shape              Param #   \n",
            "=================================================================\n",
            " embedding (Embedding)       (None, 50, 300)           72187200  \n",
            "                                                                 \n",
            " dropout_1 (Dropout)         (None, 50, 300)           0         \n",
            "                                                                 \n",
            " bidirectional_1 (Bidirectio  (None, 300)              541200    \n",
            " nal)                                                            \n",
            "                                                                 \n",
            " dense_1 (Dense)             (None, 1)                 301       \n",
            "                                                                 \n",
            "=================================================================\n",
            "Total params: 72,728,701\n",
            "Trainable params: 541,501\n",
            "Non-trainable params: 72,187,200\n",
            "_________________________________________________________________\n",
            "\n",
            "Train model:\n",
            "\n",
            "Epoch 1/10\n",
            "1250/1250 [==============================] - 226s 177ms/step - loss: 0.4970 - accuracy: 0.7545 - val_loss: 0.4578 - val_accuracy: 0.7814\n",
            "Epoch 2/10\n",
            "1250/1250 [==============================] - 221s 177ms/step - loss: 0.4639 - accuracy: 0.7774 - val_loss: 0.4455 - val_accuracy: 0.7893\n",
            "Epoch 3/10\n",
            "1250/1250 [==============================] - 220s 176ms/step - loss: 0.4525 - accuracy: 0.7843 - val_loss: 0.4389 - val_accuracy: 0.7929\n",
            "Epoch 4/10\n",
            "1250/1250 [==============================] - 221s 177ms/step - loss: 0.4452 - accuracy: 0.7891 - val_loss: 0.4365 - val_accuracy: 0.7947\n",
            "Epoch 5/10\n",
            "1250/1250 [==============================] - 223s 178ms/step - loss: 0.4395 - accuracy: 0.7922 - val_loss: 0.4321 - val_accuracy: 0.7977\n",
            "Epoch 6/10\n",
            "1250/1250 [==============================] - 223s 178ms/step - loss: 0.4354 - accuracy: 0.7948 - val_loss: 0.4319 - val_accuracy: 0.7986\n",
            "Epoch 7/10\n",
            "1250/1250 [==============================] - 223s 179ms/step - loss: 0.4317 - accuracy: 0.7965 - val_loss: 0.4288 - val_accuracy: 0.7999\n",
            "Epoch 8/10\n",
            "1250/1250 [==============================] - 224s 179ms/step - loss: 0.4290 - accuracy: 0.7982 - val_loss: 0.4286 - val_accuracy: 0.8006\n",
            "Epoch 9/10\n",
            "1250/1250 [==============================] - 223s 179ms/step - loss: 0.4264 - accuracy: 0.8002 - val_loss: 0.4288 - val_accuracy: 0.7998\n",
            "Epoch 10/10\n",
            "1250/1250 [==============================] - 224s 179ms/step - loss: 0.4240 - accuracy: 0.8014 - val_loss: 0.4280 - val_accuracy: 0.8010\n",
            "\n",
            " ================================================================ \n",
            "\n",
            "Test loss:     0.3655097186565399\n",
            "Test accuracy: 0.8467966318130493 \n",
            "\n"
          ]
        },
        {
          "output_type": "display_data",
          "data": {
            "image/png": "[encoded data removed]",
            "text/plain": [
              "<Figure size 432x288 with 1 Axes>"
            ]
          },
          "metadata": {
            "needs_background": "light"
          }
        },
        {
          "output_type": "display_data",
          "data": {
            "image/png": "[encoded data removed]",
            "text/plain": [
              "<Figure size 432x288 with 1 Axes>"
            ]
          },
          "metadata": {
            "needs_background": "light"
          }
        }
      ]
    },
    {
      "cell_type": "code",
      "source": [
        "model_out = model.predict(x_test)\n",
        "y_pred = [decode_sentiment(x) for x in model_out]\n",
        "plot_confusion_matrix(y_test, y_pred, [0,1])"
      ],
      "metadata": {
        "colab": {
          "base_uri": "https://localhost:8080/",
          "height": 404
        },
        "outputId": "8b147a0b-f7d8-4da6-851e-a48e602c72fb",
        "id": "xH-jwY8TXMM1"
      },
      "execution_count": null,
      "outputs": [
        {
          "output_type": "display_data",
          "data": {
            "image/png": "[encoded data removed]",
            "text/plain": [
              "<Figure size 432x432 with 2 Axes>"
            ]
          },
          "metadata": {
            "needs_background": "light"
          }
        }
      ]
    },
    {
      "cell_type": "markdown",
      "source": [
        "## Pyramid structure"
      ],
      "metadata": {
        "id": "q3j9KCoIL3o2"
      }
    },
    {
      "cell_type": "code",
      "source": [
        "model = Sequential()\n",
        "model.add(embedding_layer)\n",
        "#model.add(tf.keras.Input(shape=(None, 300)))\n",
        "model.add(Dropout(0.2))\n",
        "model.add(LSTM(64, dropout=0.2,return_sequences=True))\n",
        "model.add(tf.keras.layers.AveragePooling1D(pool_size=2, strides=2, padding='valid'))\n",
        "model.add(tf.keras.layers.Lambda(lambda x: x * [2])) \n",
        "model.add(LSTM(32, dropout=0.2,return_sequences=True))\n",
        "model.add(tf.keras.layers.AveragePooling1D(pool_size=2, strides=2, padding='valid'))\n",
        "model.add(tf.keras.layers.Lambda(lambda x: x * [2])) \n",
        "model.add(LSTM(16, dropout=0.2,return_sequences=True))\n",
        "model.add(tf.keras.layers.AveragePooling1D(pool_size=2, strides=2, padding='valid'))\n",
        "model.add(tf.keras.layers.Lambda(lambda x: x * [2])) \n",
        "model.add(LSTM(8, dropout=0.2))\n",
        "model.add(Dense(1, activation='sigmoid'))\n",
        "\n",
        "model.summary()\n",
        "\n",
        "print('\\nTrain model:\\n')\n",
        "# ===================================================================\n",
        "model.compile(optimizer=Adam(learning_rate=0.001), loss='binary_crossentropy', metrics=['accuracy'])\n",
        "\n",
        "history = model.fit(x_train, y_train, batch_size=BATCH_SIZE, epochs=EPOCHS, validation_data=(x_valid, y_valid))\n",
        "\n",
        "# ===================================================================\n",
        "\n",
        "print('\\n ================================================================ \\n')\n",
        "score = model.evaluate(x_test, y_test, verbose=0)\n",
        "print(\"Test loss:    \", score[0])\n",
        "print(\"Test accuracy:\", score[1],'\\n')\n",
        "\n",
        "plot_curves(history)\n",
        "\n",
        "# save model\n",
        "# model.save('./models/pyramid.h5')"
      ],
      "metadata": {
        "colab": {
          "base_uri": "https://localhost:8080/",
          "height": 1000
        },
        "id": "h-7Y7ac91H8r",
        "outputId": "31cb2136-7c11-42ce-d660-cb814923051b"
      },
      "execution_count": null,
      "outputs": [
        {
          "output_type": "stream",
          "name": "stdout",
          "text": [
            "Model: \"sequential\"\n",
            "_________________________________________________________________\n",
            " Layer (type)                Output Shape              Param #   \n",
            "=================================================================\n",
            " embedding (Embedding)       (None, 50, 300)           72187200  \n",
            "                                                                 \n",
            " dropout (Dropout)           (None, 50, 300)           0         \n",
            "                                                                 \n",
            " lstm (LSTM)                 (None, 50, 64)            93440     \n",
            "                                                                 \n",
            " average_pooling1d (AverageP  (None, 25, 64)           0         \n",
            " ooling1D)                                                       \n",
            "                                                                 \n",
            " lambda (Lambda)             (None, 25, 64)            0         \n",
            "                                                                 \n",
            " lstm_1 (LSTM)               (None, 25, 32)            12416     \n",
            "                                                                 \n",
            " average_pooling1d_1 (Averag  (None, 12, 32)           0         \n",
            " ePooling1D)                                                     \n",
            "                                                                 \n",
            " lambda_1 (Lambda)           (None, 12, 32)            0         \n",
            "                                                                 \n",
            " lstm_2 (LSTM)               (None, 12, 16)            3136      \n",
            "                                                                 \n",
            " average_pooling1d_2 (Averag  (None, 6, 16)            0         \n",
            " ePooling1D)                                                     \n",
            "                                                                 \n",
            " lambda_2 (Lambda)           (None, 6, 16)             0         \n",
            "                                                                 \n",
            " lstm_3 (LSTM)               (None, 8)                 800       \n",
            "                                                                 \n",
            " dense (Dense)               (None, 1)                 9         \n",
            "                                                                 \n",
            "=================================================================\n",
            "Total params: 72,297,001\n",
            "Trainable params: 109,801\n",
            "Non-trainable params: 72,187,200\n",
            "_________________________________________________________________\n",
            "\n",
            "Train model:\n",
            "\n",
            "Epoch 1/10\n",
            "1250/1250 [==============================] - 93s 66ms/step - loss: 0.5986 - accuracy: 0.6698 - val_loss: 0.5661 - val_accuracy: 0.6985\n",
            "Epoch 2/10\n",
            "1250/1250 [==============================] - 80s 64ms/step - loss: 0.5744 - accuracy: 0.6909 - val_loss: 0.5589 - val_accuracy: 0.7035\n",
            "Epoch 3/10\n",
            "1250/1250 [==============================] - 80s 64ms/step - loss: 0.5679 - accuracy: 0.6963 - val_loss: 0.5566 - val_accuracy: 0.7037\n",
            "Epoch 4/10\n",
            "1250/1250 [==============================] - 80s 64ms/step - loss: 0.5642 - accuracy: 0.6994 - val_loss: 0.5533 - val_accuracy: 0.7073\n",
            "Epoch 5/10\n",
            "1250/1250 [==============================] - 80s 64ms/step - loss: 0.5616 - accuracy: 0.7009 - val_loss: 0.5513 - val_accuracy: 0.7088\n",
            "Epoch 6/10\n",
            "1250/1250 [==============================] - 80s 64ms/step - loss: 0.5593 - accuracy: 0.7027 - val_loss: 0.5498 - val_accuracy: 0.7100\n",
            "Epoch 7/10\n",
            "1250/1250 [==============================] - 80s 64ms/step - loss: 0.5578 - accuracy: 0.7038 - val_loss: 0.5496 - val_accuracy: 0.7105\n",
            "Epoch 8/10\n",
            "1250/1250 [==============================] - 80s 64ms/step - loss: 0.5562 - accuracy: 0.7048 - val_loss: 0.5481 - val_accuracy: 0.7113\n",
            "Epoch 9/10\n",
            "1250/1250 [==============================] - 81s 65ms/step - loss: 0.5549 - accuracy: 0.7061 - val_loss: 0.5475 - val_accuracy: 0.7109\n",
            "Epoch 10/10\n",
            "1250/1250 [==============================] - 81s 65ms/step - loss: 0.5541 - accuracy: 0.7066 - val_loss: 0.5482 - val_accuracy: 0.7114\n",
            "\n",
            " ================================================================ \n",
            "\n",
            "Test loss:     0.47987136244773865\n",
            "Test accuracy: 0.7715877294540405 \n",
            "\n"
          ]
        },
        {
          "output_type": "display_data",
          "data": {
            "image/png": "[encoded data removed]",
            "text/plain": [
              "<Figure size 432x288 with 1 Axes>"
            ]
          },
          "metadata": {
            "needs_background": "light"
          }
        },
        {
          "output_type": "display_data",
          "data": {
            "image/png": "[encoded data removed]",
            "text/plain": [
              "<Figure size 432x288 with 1 Axes>"
            ]
          },
          "metadata": {
            "needs_background": "light"
          }
        }
      ]
    },
    {
      "cell_type": "code",
      "source": [
        "model_out = model.predict(x_test)\n",
        "y_pred = [decode_sentiment(x) for x in model_out]\n",
        "plot_confusion_matrix(y_test, y_pred, [0,1])"
      ],
      "metadata": {
        "colab": {
          "base_uri": "https://localhost:8080/",
          "height": 404
        },
        "id": "p0hIcfQUBJNR",
        "outputId": "151458b4-e3e7-4ba9-b38f-3a27d5021d97"
      },
      "execution_count": null,
      "outputs": [
        {
          "output_type": "display_data",
          "data": {
            "image/png": "[encoded data removed]",
            "text/plain": [
              "<Figure size 432x432 with 2 Axes>"
            ]
          },
          "metadata": {
            "needs_background": "light"
          }
        }
      ]
    },
    {
      "cell_type": "code",
      "source": [
        "x_train"
      ],
      "metadata": {
        "colab": {
          "base_uri": "https://localhost:8080/"
        },
        "id": "dfD-UXUzhPPb",
        "outputId": "f0806d63-1716-499e-86a0-ff4ffcc7cf9b"
      },
      "execution_count": null,
      "outputs": [
        {
          "output_type": "execute_result",
          "data": {
            "text/plain": [
              "array([[     0,      0,      0, ...,      0,     34,    110],\n",
              "       [     0,      0,      0, ...,    133,    220,   2307],\n",
              "       [     0,      0,      0, ...,   5609,   9841,   1055],\n",
              "       ...,\n",
              "       [     0,      0,      0, ...,    412, 163388,    702],\n",
              "       [     0,      0,      0, ...,   2344,  19810,   3815],\n",
              "       [     0,      0,      0, ...,     19,    162,    183]], dtype=int32)"
            ]
          },
          "metadata": {},
          "execution_count": 44
        }
      ]
    }
  ]
}